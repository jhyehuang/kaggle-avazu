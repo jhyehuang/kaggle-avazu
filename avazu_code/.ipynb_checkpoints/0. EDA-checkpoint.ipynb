{
 "cells": [
  {
   "cell_type": "markdown",
   "metadata": {},
   "source": [
    "# 数据探索\n"
   ]
  },
  {
   "cell_type": "code",
   "execution_count": 1,
   "metadata": {},
   "outputs": [],
   "source": [
    "import pandas as pd\n",
    "import numpy as np"
   ]
  },
  {
   "cell_type": "code",
   "execution_count": 2,
   "metadata": {},
   "outputs": [],
   "source": [
    "from flags import FLAGS, unparsed\n",
    "from ml.ml_utils import *\n",
    "import matplotlib.pyplot as plt\n",
    "import seaborn as sns\n",
    "%matplotlib inline\n"
   ]
  },
  {
   "cell_type": "code",
   "execution_count": 3,
   "metadata": {
    "scrolled": true
   },
   "outputs": [],
   "source": [
    " \"\"\"\n",
    "• id: ad identifier （广告 ID）\n",
    "• click: 0/1 for non-click/click （是否被点击，其中 0 为不被点击，1 为不被点击，此列为目\n",
    "标变量）\n",
    "• hour: format is YYMMDDHH, so 14091123 means 23:00 on Sept. 11, 2014 UTC. （时间）\n",
    "• C1 -- anonymized categorical variable （类别型变量）\n",
    "• banner_pos （广告位置）\n",
    "• site_id （站点 ID）\n",
    "• site_domain （站点领域）\n",
    "• site_category （站点类别）\n",
    "• app_id （APP ID）\n",
    "• app_domai\n",
    "• C14-C21 -- anonymized categorical variables （类别型变量）\n",
    " \"\"\"\n",
    "#读取数据\n",
    "train = pd.read_csv(FLAGS.src_train_path,nrows =500)"
   ]
  },
  {
   "cell_type": "markdown",
   "metadata": {},
   "source": [
    "train = pd.read_csv(\"D:/GitHub/data/avazu_data/train.csv\",usecols=[2],nrows =50)"
   ]
  },
  {
   "cell_type": "code",
   "execution_count": 4,
   "metadata": {},
   "outputs": [
    {
     "name": "stdout",
     "output_type": "stream",
     "text": [
      "<class 'pandas.core.frame.DataFrame'>\n",
      "RangeIndex: 40428967 entries, 0 to 40428966\n",
      "Data columns (total 24 columns):\n",
      "id                  float64\n",
      "click               int64\n",
      "hour                int64\n",
      "C1                  int64\n",
      "banner_pos          int64\n",
      "site_id             object\n",
      "site_domain         object\n",
      "site_category       object\n",
      "app_id              object\n",
      "app_domain          object\n",
      "app_category        object\n",
      "device_id           object\n",
      "device_ip           object\n",
      "device_model        object\n",
      "device_type         int64\n",
      "device_conn_type    int64\n",
      "C14                 int64\n",
      "C15                 int64\n",
      "C16                 int64\n",
      "C17                 int64\n",
      "C18                 int64\n",
      "C19                 int64\n",
      "C20                 int64\n",
      "C21                 int64\n",
      "dtypes: float64(1), int64(14), object(9)\n",
      "memory usage: 7.2+ GB\n"
     ]
    }
   ],
   "source": [
    "train.info()"
   ]
  },
  {
   "cell_type": "code",
   "execution_count": 5,
   "metadata": {},
   "outputs": [
    {
     "data": {
      "text/html": [
       "<div>\n",
       "<style scoped>\n",
       "    .dataframe tbody tr th:only-of-type {\n",
       "        vertical-align: middle;\n",
       "    }\n",
       "\n",
       "    .dataframe tbody tr th {\n",
       "        vertical-align: top;\n",
       "    }\n",
       "\n",
       "    .dataframe thead th {\n",
       "        text-align: right;\n",
       "    }\n",
       "</style>\n",
       "<table border=\"1\" class=\"dataframe\">\n",
       "  <thead>\n",
       "    <tr style=\"text-align: right;\">\n",
       "      <th></th>\n",
       "      <th>id</th>\n",
       "      <th>click</th>\n",
       "      <th>hour</th>\n",
       "      <th>C1</th>\n",
       "      <th>banner_pos</th>\n",
       "      <th>site_id</th>\n",
       "      <th>site_domain</th>\n",
       "      <th>site_category</th>\n",
       "      <th>app_id</th>\n",
       "      <th>app_domain</th>\n",
       "      <th>...</th>\n",
       "      <th>C19</th>\n",
       "      <th>C20</th>\n",
       "      <th>C21</th>\n",
       "      <th>date</th>\n",
       "      <th>one_day</th>\n",
       "      <th>one_day_hour</th>\n",
       "      <th>week_day</th>\n",
       "      <th>day_hour_prev</th>\n",
       "      <th>day_hour_next</th>\n",
       "      <th>is_work_day</th>\n",
       "    </tr>\n",
       "  </thead>\n",
       "  <tbody>\n",
       "  </tbody>\n",
       "</table>\n",
       "<p>0 rows × 31 columns</p>\n",
       "</div>"
      ],
      "text/plain": [
       "Empty DataFrame\n",
       "Columns: [id, click, hour, C1, banner_pos, site_id, site_domain, site_category, app_id, app_domain, app_category, device_id, device_ip, device_model, device_type, device_conn_type, C14, C15, C16, C17, C18, C19, C20, C21, date, one_day, one_day_hour, week_day, day_hour_prev, day_hour_next, is_work_day]\n",
       "Index: []\n",
       "\n",
       "[0 rows x 31 columns]"
      ]
     },
     "execution_count": 5,
     "metadata": {},
     "output_type": "execute_result"
    }
   ],
   "source": [
    "\n",
    "train['date']=pd.to_datetime((train['hour'] / 100).map(int)+20000000)\n",
    "        \n",
    "train['one_day']=train['date'].dt.day\n",
    "train['one_day_hour'] = train['date'].dt.hour\n",
    "train['week_day'] = train['date'].dt.dayofweek\n",
    "train['day_hour_prev'] = train['one_day_hour'] - 1\n",
    "train['day_hour_next'] = train['one_day_hour'] + 1\n",
    "train['is_work_day'] = train['week_day'].apply(lambda x: 1 if x in [0,1,2,3,4] else 0)\n",
    "train[train['is_work_day']==0]"
   ]
  },
  {
   "cell_type": "code",
   "execution_count": 6,
   "metadata": {},
   "outputs": [
    {
     "name": "stdout",
     "output_type": "stream",
     "text": [
      "['id' 'click' 'hour' 'C1' 'banner_pos' 'site_id' 'site_domain'\n",
      " 'site_category' 'app_id' 'app_domain' 'app_category' 'device_id'\n",
      " 'device_ip' 'device_model' 'device_type' 'device_conn_type' 'C14' 'C15'\n",
      " 'C16' 'C17' 'C18' 'C19' 'C20' 'C21' 'date' 'one_day' 'one_day_hour'\n",
      " 'week_day' 'day_hour_prev' 'day_hour_next' 'is_work_day']\n"
     ]
    }
   ],
   "source": [
    "print (train.columns.values)\n",
    "min_col=['id', 'click', 'hour', 'C1', 'banner_pos', 'site_id',\n",
    "       'site_domain', 'site_category', 'app_id', 'app_domain',\n",
    "       'app_category', 'device_id', 'device_ip', 'device_model',\n",
    "       'device_type', 'device_conn_type']"
   ]
  },
  {
   "cell_type": "markdown",
   "metadata": {
    "collapsed": true
   },
   "source": [
    "for col in min_col:\n",
    "    rets=col_anly(col)\n",
    "    col_plt(rets,col,plt)"
   ]
  },
  {
   "cell_type": "code",
   "execution_count": null,
   "metadata": {},
   "outputs": [],
   "source": [
    "sns_factorplot(train_one=train,col_name='week_day',kind='count',plt=plt,sns=sns)"
   ]
  },
  {
   "cell_type": "code",
   "execution_count": null,
   "metadata": {
    "collapsed": true
   },
   "outputs": [],
   "source": []
  }
 ],
 "metadata": {
  "kernelspec": {
   "display_name": "Python 3",
   "language": "python",
   "name": "python3"
  },
  "language_info": {
   "codemirror_mode": {
    "name": "ipython",
    "version": 3
   },
   "file_extension": ".py",
   "mimetype": "text/x-python",
   "name": "python",
   "nbconvert_exporter": "python",
   "pygments_lexer": "ipython3",
   "version": "3.6.4"
  }
 },
 "nbformat": 4,
 "nbformat_minor": 2
}
