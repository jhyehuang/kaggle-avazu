{
 "cells": [
  {
   "cell_type": "markdown",
   "metadata": {},
   "source": [
    "# 数据探索\n"
   ]
  },
  {
   "cell_type": "code",
   "execution_count": 1,
   "metadata": {
    "collapsed": true
   },
   "outputs": [],
   "source": [
    "import pandas as pd\n",
    "import numpy as np"
   ]
  },
  {
   "cell_type": "code",
   "execution_count": 2,
   "metadata": {
    "collapsed": true
   },
   "outputs": [],
   "source": [
    "from flags import FLAGS, unparsed\n",
    "from ml.ml_utils import *\n",
    "import matplotlib.pyplot as plt\n",
    "import seaborn as sns\n",
    "%matplotlib inline\n"
   ]
  },
  {
   "cell_type": "code",
   "execution_count": 3,
   "metadata": {
    "scrolled": true
   },
   "outputs": [],
   "source": [
    " \"\"\"\n",
    "• id: ad identifier （广告 ID）\n",
    "• click: 0/1 for non-click/click （是否被点击，其中 0 为不被点击，1 为不被点击，此列为目\n",
    "标变量）\n",
    "• hour: format is YYMMDDHH, so 14091123 means 23:00 on Sept. 11, 2014 UTC. （时间）\n",
    "• C1 -- anonymized categorical variable （类别型变量）\n",
    "• banner_pos （广告位置）\n",
    "• site_id （站点 ID）\n",
    "• site_domain （站点领域）\n",
    "• site_category （站点类别）\n",
    "• app_id （APP ID）\n",
    "• app_domai\n",
    "• C14-C21 -- anonymized categorical variables （类别型变量）\n",
    " \"\"\"\n",
    "#读取数据\n",
    "train = pd.read_csv(FLAGS.src_train_path,nrows =500)"
   ]
  },
  {
   "cell_type": "code",
   "execution_count": 26,
   "metadata": {},
   "outputs": [
    {
     "data": {
      "text/plain": [
       "(500, 31)"
      ]
     },
     "execution_count": 26,
     "metadata": {},
     "output_type": "execute_result"
    }
   ],
   "source": [
    "train.shape"
   ]
  },
  {
   "cell_type": "code",
   "execution_count": 25,
   "metadata": {},
   "outputs": [
    {
     "data": {
      "text/plain": [
       "(500, 62)"
      ]
     },
     "execution_count": 25,
     "metadata": {},
     "output_type": "execute_result"
    }
   ],
   "source": [
    "pd.concat([train,train],axis = 1).shape"
   ]
  },
  {
   "cell_type": "code",
   "execution_count": 20,
   "metadata": {},
   "outputs": [
    {
     "data": {
      "text/plain": [
       "0      a9\n",
       "1      a9\n",
       "2      a9\n",
       "3      a9\n",
       "4      a9\n",
       "5      a9\n",
       "6      a9\n",
       "7      37\n",
       "8      a9\n",
       "9      a9\n",
       "10     a9\n",
       "11     a9\n",
       "12     f4\n",
       "13     df\n",
       "14     a9\n",
       "15     a9\n",
       "16     a9\n",
       "17     c2\n",
       "18     a9\n",
       "19     a9\n",
       "20     a9\n",
       "21     a9\n",
       "22     a9\n",
       "23     a9\n",
       "24     a9\n",
       "25     c7\n",
       "26     a9\n",
       "27     a9\n",
       "28     a9\n",
       "29     a9\n",
       "       ..\n",
       "470    a9\n",
       "471    a9\n",
       "472    07\n",
       "473    a9\n",
       "474    11\n",
       "475    a0\n",
       "476    b1\n",
       "477    66\n",
       "478    39\n",
       "479    a9\n",
       "480    a9\n",
       "481    a9\n",
       "482    a9\n",
       "483    a9\n",
       "484    a9\n",
       "485    a9\n",
       "486    a9\n",
       "487    a9\n",
       "488    a9\n",
       "489    a9\n",
       "490    a9\n",
       "491    a9\n",
       "492    a9\n",
       "493    a9\n",
       "494    a9\n",
       "495    a9\n",
       "496    a9\n",
       "497    a9\n",
       "498    a9\n",
       "499    a9\n",
       "Name: device_id, Length: 500, dtype: object"
      ]
     },
     "execution_count": 20,
     "metadata": {},
     "output_type": "execute_result"
    }
   ],
   "source": [
    "train['device_id'].apply(lambda x: x[:2])"
   ]
  },
  {
   "cell_type": "code",
   "execution_count": 6,
   "metadata": {
    "scrolled": true
   },
   "outputs": [
    {
     "name": "stdout",
     "output_type": "stream",
     "text": [
      "<class 'pandas.core.frame.DataFrame'>\n",
      "RangeIndex: 500 entries, 0 to 499\n",
      "Data columns (total 24 columns):\n",
      "id                  500 non-null uint64\n",
      "click               500 non-null int64\n",
      "hour                500 non-null int64\n",
      "C1                  500 non-null int64\n",
      "banner_pos          500 non-null int64\n",
      "site_id             500 non-null object\n",
      "site_domain         500 non-null object\n",
      "site_category       500 non-null object\n",
      "app_id              500 non-null object\n",
      "app_domain          500 non-null object\n",
      "app_category        500 non-null object\n",
      "device_id           500 non-null object\n",
      "device_ip           500 non-null object\n",
      "device_model        500 non-null object\n",
      "device_type         500 non-null int64\n",
      "device_conn_type    500 non-null int64\n",
      "C14                 500 non-null int64\n",
      "C15                 500 non-null int64\n",
      "C16                 500 non-null int64\n",
      "C17                 500 non-null int64\n",
      "C18                 500 non-null int64\n",
      "C19                 500 non-null int64\n",
      "C20                 500 non-null int64\n",
      "C21                 500 non-null int64\n",
      "dtypes: int64(14), object(9), uint64(1)\n",
      "memory usage: 93.8+ KB\n"
     ]
    }
   ],
   "source": [
    "train.info()"
   ]
  },
  {
   "cell_type": "code",
   "execution_count": 9,
   "metadata": {},
   "outputs": [
    {
     "data": {
      "text/plain": [
       "True"
      ]
     },
     "execution_count": 9,
     "metadata": {},
     "output_type": "execute_result"
    }
   ],
   "source": [
    "train['site_id'].dtypes=='object'"
   ]
  },
  {
   "cell_type": "code",
   "execution_count": 10,
   "metadata": {
    "scrolled": true
   },
   "outputs": [
    {
     "data": {
      "text/plain": [
       "{'0555f2bc': -1,\n",
       " '056655be': -1,\n",
       " '062b1c4c': -1,\n",
       " '074ace60': -1,\n",
       " '0d5d53fc': -1,\n",
       " '112aad6d': -1,\n",
       " '11c958e6': -1,\n",
       " '129b5ddc': -1,\n",
       " '149fc5c6': -1,\n",
       " '203eb659': -1,\n",
       " '30b85498': -1,\n",
       " '34fb36c5': -1,\n",
       " '355dde08': -1,\n",
       " '3737ddc6': -1,\n",
       " '3772665a': -1,\n",
       " '38c2e290': -1,\n",
       " '39c1e90b': -1,\n",
       " '3a51ff0f': -1,\n",
       " '3d28892b': -1,\n",
       " '4143684a': -1,\n",
       " '4361e319': -1,\n",
       " '44239568': -1,\n",
       " '45c04824': -1,\n",
       " '4b96c779': -1,\n",
       " '4d5c4b49': -1,\n",
       " '5177bf06': -1,\n",
       " '52260ad2': -1,\n",
       " '54646d0e': -1,\n",
       " '56cd1742': -1,\n",
       " '5c9c044a': -1,\n",
       " '5fea939e': -1,\n",
       " '60ba22c2': -1,\n",
       " '626697aa': -1,\n",
       " '6280ce87': -1,\n",
       " '642eafdb': -1,\n",
       " '6659ccd3': -1,\n",
       " '692f21b2': -1,\n",
       " '6d689031': -1,\n",
       " '6f065eef': -1,\n",
       " '72cbe240': -1,\n",
       " '7b4e01b6': -1,\n",
       " '84c8d8fe': -1,\n",
       " '8d41dabd': -1,\n",
       " '8e6abea8': -1,\n",
       " '936e92fb': -1,\n",
       " '973e1997': -1,\n",
       " '977199d4': -1,\n",
       " '9848933c': -1,\n",
       " '9883d1cf': -1,\n",
       " '989e7418': -1,\n",
       " 'a040dec4': -1,\n",
       " 'a2b17167': -1,\n",
       " 'a39cd601': -1,\n",
       " 'a5cd53ed': -1,\n",
       " 'a99f214a': 419,\n",
       " 'ae843079': -1,\n",
       " 'af08e95d': -1,\n",
       " 'b194b8cd': -1,\n",
       " 'b496f6d3': -1,\n",
       " 'b9c1b771': -1,\n",
       " 'b9f25d10': -1,\n",
       " 'bd631d31': -1,\n",
       " 'c25d43cd': -1,\n",
       " 'c3113588': -1,\n",
       " 'c3d4a419': -1,\n",
       " 'c7568a45': -1,\n",
       " 'd26c6fe3': -1,\n",
       " 'd5eec38b': -1,\n",
       " 'daf654d0': -1,\n",
       " 'df25a415': -1,\n",
       " 'df62db53': -1,\n",
       " 'e2bc6c93': -1,\n",
       " 'e55a33e5': -1,\n",
       " 'e7dfec04': -1,\n",
       " 'ec43310a': -1,\n",
       " 'edbad322': -1,\n",
       " 'f414c848': -1,\n",
       " 'f551f9a0': -1,\n",
       " 'fb3dd181': -1,\n",
       " 'fb6528ec': -1,\n",
       " 'ff2c57ed': -1}"
      ]
     },
     "execution_count": 10,
     "metadata": {},
     "output_type": "execute_result"
    }
   ],
   "source": [
    "dict((key,-1) if value <10 else (key,value)  for key,value in dict(train['device_id'].value_counts()).items())"
   ]
  },
  {
   "cell_type": "markdown",
   "metadata": {},
   "source": [
    "train = pd.read_csv(\"D:/GitHub/data/avazu_data/train.csv\",usecols=[2],nrows =50)"
   ]
  },
  {
   "cell_type": "code",
   "execution_count": 4,
   "metadata": {},
   "outputs": [
    {
     "name": "stdout",
     "output_type": "stream",
     "text": [
      "<class 'pandas.core.frame.DataFrame'>\n",
      "RangeIndex: 40428967 entries, 0 to 40428966\n",
      "Data columns (total 24 columns):\n",
      "id                  float64\n",
      "click               int64\n",
      "hour                int64\n",
      "C1                  int64\n",
      "banner_pos          int64\n",
      "site_id             object\n",
      "site_domain         object\n",
      "site_category       object\n",
      "app_id              object\n",
      "app_domain          object\n",
      "app_category        object\n",
      "device_id           object\n",
      "device_ip           object\n",
      "device_model        object\n",
      "device_type         int64\n",
      "device_conn_type    int64\n",
      "C14                 int64\n",
      "C15                 int64\n",
      "C16                 int64\n",
      "C17                 int64\n",
      "C18                 int64\n",
      "C19                 int64\n",
      "C20                 int64\n",
      "C21                 int64\n",
      "dtypes: float64(1), int64(14), object(9)\n",
      "memory usage: 7.2+ GB\n"
     ]
    }
   ],
   "source": [
    "train.info()"
   ]
  },
  {
   "cell_type": "code",
   "execution_count": 11,
   "metadata": {
    "scrolled": true
   },
   "outputs": [
    {
     "data": {
      "text/html": [
       "<div>\n",
       "<style>\n",
       "    .dataframe thead tr:only-child th {\n",
       "        text-align: right;\n",
       "    }\n",
       "\n",
       "    .dataframe thead th {\n",
       "        text-align: left;\n",
       "    }\n",
       "\n",
       "    .dataframe tbody tr th {\n",
       "        vertical-align: top;\n",
       "    }\n",
       "</style>\n",
       "<table border=\"1\" class=\"dataframe\">\n",
       "  <thead>\n",
       "    <tr style=\"text-align: right;\">\n",
       "      <th></th>\n",
       "      <th>id</th>\n",
       "      <th>click</th>\n",
       "      <th>hour</th>\n",
       "      <th>C1</th>\n",
       "      <th>banner_pos</th>\n",
       "      <th>site_id</th>\n",
       "      <th>site_domain</th>\n",
       "      <th>site_category</th>\n",
       "      <th>app_id</th>\n",
       "      <th>app_domain</th>\n",
       "      <th>...</th>\n",
       "      <th>C19</th>\n",
       "      <th>C20</th>\n",
       "      <th>C21</th>\n",
       "      <th>date</th>\n",
       "      <th>one_day</th>\n",
       "      <th>one_day_hour</th>\n",
       "      <th>week_day</th>\n",
       "      <th>day_hour_prev</th>\n",
       "      <th>day_hour_next</th>\n",
       "      <th>is_work_day</th>\n",
       "    </tr>\n",
       "  </thead>\n",
       "  <tbody>\n",
       "  </tbody>\n",
       "</table>\n",
       "<p>0 rows × 31 columns</p>\n",
       "</div>"
      ],
      "text/plain": [
       "Empty DataFrame\n",
       "Columns: [id, click, hour, C1, banner_pos, site_id, site_domain, site_category, app_id, app_domain, app_category, device_id, device_ip, device_model, device_type, device_conn_type, C14, C15, C16, C17, C18, C19, C20, C21, date, one_day, one_day_hour, week_day, day_hour_prev, day_hour_next, is_work_day]\n",
       "Index: []\n",
       "\n",
       "[0 rows x 31 columns]"
      ]
     },
     "execution_count": 11,
     "metadata": {},
     "output_type": "execute_result"
    }
   ],
   "source": [
    "\n",
    "train['date']=pd.to_datetime((train['hour'] / 100).map(int)+20000000)\n",
    "        \n",
    "train['one_day']=train['date'].dt.day\n",
    "train['one_day_hour'] = train['date'].dt.hour\n",
    "train['week_day'] = train['date'].dt.dayofweek\n",
    "train['day_hour_prev'] = train['one_day_hour'] - 1\n",
    "train['day_hour_next'] = train['one_day_hour'] + 1\n",
    "train['is_work_day'] = train['week_day'].apply(lambda x: 1 if x in [0,1,2,3,4] else 0)\n",
    "train[train['is_work_day']==0]"
   ]
  },
  {
   "cell_type": "code",
   "execution_count": 13,
   "metadata": {},
   "outputs": [
    {
     "name": "stdout",
     "output_type": "stream",
     "text": [
      "<class 'pandas.core.frame.DataFrame'>\n",
      "RangeIndex: 500 entries, 0 to 499\n",
      "Data columns (total 31 columns):\n",
      "id                  500 non-null uint64\n",
      "click               500 non-null int64\n",
      "hour                500 non-null int64\n",
      "C1                  500 non-null int64\n",
      "banner_pos          500 non-null int64\n",
      "site_id             500 non-null object\n",
      "site_domain         500 non-null object\n",
      "site_category       500 non-null object\n",
      "app_id              500 non-null object\n",
      "app_domain          500 non-null object\n",
      "app_category        500 non-null object\n",
      "device_id           500 non-null object\n",
      "device_ip           500 non-null object\n",
      "device_model        500 non-null object\n",
      "device_type         500 non-null int64\n",
      "device_conn_type    500 non-null int64\n",
      "C14                 500 non-null int64\n",
      "C15                 500 non-null int64\n",
      "C16                 500 non-null int64\n",
      "C17                 500 non-null int64\n",
      "C18                 500 non-null int64\n",
      "C19                 500 non-null int64\n",
      "C20                 500 non-null int64\n",
      "C21                 500 non-null int64\n",
      "date                500 non-null datetime64[ns]\n",
      "one_day             500 non-null int64\n",
      "one_day_hour        500 non-null int64\n",
      "week_day            500 non-null int64\n",
      "day_hour_prev       500 non-null int64\n",
      "day_hour_next       500 non-null int64\n",
      "is_work_day         500 non-null int64\n",
      "dtypes: datetime64[ns](1), int64(20), object(9), uint64(1)\n",
      "memory usage: 121.2+ KB\n"
     ]
    }
   ],
   "source": [
    "train.info()"
   ]
  },
  {
   "cell_type": "code",
   "execution_count": 12,
   "metadata": {},
   "outputs": [
    {
     "name": "stdout",
     "output_type": "stream",
     "text": [
      "['id' 'click' 'hour' 'C1' 'banner_pos' 'site_id' 'site_domain'\n",
      " 'site_category' 'app_id' 'app_domain' 'app_category' 'device_id'\n",
      " 'device_ip' 'device_model' 'device_type' 'device_conn_type' 'C14' 'C15'\n",
      " 'C16' 'C17' 'C18' 'C19' 'C20' 'C21' 'date' 'one_day' 'one_day_hour'\n",
      " 'week_day' 'day_hour_prev' 'day_hour_next' 'is_work_day']\n"
     ]
    }
   ],
   "source": [
    "print (train.columns.values)\n",
    "min_col=['id', 'click', 'hour', 'C1', 'banner_pos', 'site_id',\n",
    "       'site_domain', 'site_category', 'app_id', 'app_domain',\n",
    "       'app_category', 'device_id', 'device_ip', 'device_model',\n",
    "       'device_type', 'device_conn_type']"
   ]
  },
  {
   "cell_type": "markdown",
   "metadata": {
    "collapsed": true
   },
   "source": [
    "for col in min_col:\n",
    "    rets=col_anly(col)\n",
    "    col_plt(rets,col,plt)"
   ]
  },
  {
   "cell_type": "code",
   "execution_count": null,
   "metadata": {
    "collapsed": true
   },
   "outputs": [],
   "source": [
    "sns_factorplot(train_one=train,col_name='week_day',kind='count',plt=plt,sns=sns)"
   ]
  },
  {
   "cell_type": "code",
   "execution_count": 35,
   "metadata": {},
   "outputs": [],
   "source": [
    "a=pd.read_csv('F:/GitHub/data/avazu_data/output/num_features.csv',usecols=[9,])"
   ]
  },
  {
   "cell_type": "code",
   "execution_count": 36,
   "metadata": {},
   "outputs": [
    {
     "data": {
      "text/html": [
       "<div>\n",
       "<style>\n",
       "    .dataframe thead tr:only-child th {\n",
       "        text-align: right;\n",
       "    }\n",
       "\n",
       "    .dataframe thead th {\n",
       "        text-align: left;\n",
       "    }\n",
       "\n",
       "    .dataframe tbody tr th {\n",
       "        vertical-align: top;\n",
       "    }\n",
       "</style>\n",
       "<table border=\"1\" class=\"dataframe\">\n",
       "  <thead>\n",
       "    <tr style=\"text-align: right;\">\n",
       "      <th></th>\n",
       "      <th>click</th>\n",
       "    </tr>\n",
       "  </thead>\n",
       "  <tbody>\n",
       "    <tr>\n",
       "      <th>0</th>\n",
       "      <td>0</td>\n",
       "    </tr>\n",
       "    <tr>\n",
       "      <th>1</th>\n",
       "      <td>0</td>\n",
       "    </tr>\n",
       "    <tr>\n",
       "      <th>2</th>\n",
       "      <td>0</td>\n",
       "    </tr>\n",
       "    <tr>\n",
       "      <th>3</th>\n",
       "      <td>0</td>\n",
       "    </tr>\n",
       "    <tr>\n",
       "      <th>4</th>\n",
       "      <td>0</td>\n",
       "    </tr>\n",
       "  </tbody>\n",
       "</table>\n",
       "</div>"
      ],
      "text/plain": [
       "   click\n",
       "0      0\n",
       "1      0\n",
       "2      0\n",
       "3      0\n",
       "4      0"
      ]
     },
     "execution_count": 36,
     "metadata": {},
     "output_type": "execute_result"
    }
   ],
   "source": [
    "a.head()"
   ]
  },
  {
   "cell_type": "code",
   "execution_count": null,
   "metadata": {
    "collapsed": true
   },
   "outputs": [],
   "source": []
  }
 ],
 "metadata": {
  "kernelspec": {
   "display_name": "Python 3",
   "language": "python",
   "name": "python3"
  },
  "language_info": {
   "codemirror_mode": {
    "name": "ipython",
    "version": 3
   },
   "file_extension": ".py",
   "mimetype": "text/x-python",
   "name": "python",
   "nbconvert_exporter": "python",
   "pygments_lexer": "ipython3",
   "version": "3.6.3"
  }
 },
 "nbformat": 4,
 "nbformat_minor": 2
}
