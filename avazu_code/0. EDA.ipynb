{
 "cells": [
  {
   "cell_type": "markdown",
   "metadata": {},
   "source": [
    "# 数据探索\n"
   ]
  },
  {
   "cell_type": "code",
   "execution_count": 2,
   "metadata": {
    "collapsed": true
   },
   "outputs": [],
   "source": [
    "import pandas as pd\n",
    "import numpy as np"
   ]
  },
  {
   "cell_type": "code",
   "execution_count": 3,
   "metadata": {},
   "outputs": [
    {
     "name": "stdout",
     "output_type": "stream",
     "text": [
      "<class 'argparse.Namespace'>\n",
      "<bound method Namespace.__contains__ of Namespace(dst_app_path='f:/GitHub/data/avazu_data/output/writer_app.csv', dst_site_path='f:/GitHub/data/avazu_data/output/writer_site.csv', gbdt_param={'max_depth': 15, 'eta': 0.02, 'objective': 'binary:logistic', 'verbose': 0, 'subsample': 1.0, 'min_child_weight': 50, 'gamma': 0, 'nthread': 16, 'colsample_bytree': 0.5, 'base_score': 0.16, 'seed': 999}, learning_rate=0.001, n_trees=300, output_dir='f:/GitHub/data/avazu_data/output', reverse_dictionary='reverse_dictionary.json', rf_feature_list=['C1', 'C14', 'C15', 'C16', 'C17', 'C18', 'C19', 'C20', 'C21', 'banner_pos', 'device_type', 'device_conn_type'], sample_pct=1, src_test_path='d:/GitHub/data/avazu_data/test', src_train_path='d:/GitHub/data/avazu_data/train.csv', tmp_data_path='f:/GitHub/data/avazu_data/output/', tool_dir='d:/GitHub/jhye_tool', tool_ml_dir='d:/GitHub/jhye_tool/ml', train_job_name='trian_job', train_set_path='d:/GitHub/kaggle-avazu/avazu_data', xgb_n_trees=300)>\n",
      "<method-wrapper '__delattr__' of Namespace object at 0x00000283C20CBB70>\n",
      "{'tool_dir': 'd:/GitHub/jhye_tool', 'tool_ml_dir': 'd:/GitHub/jhye_tool/ml', 'output_dir': 'f:/GitHub/data/avazu_data/output', 'train_set_path': 'd:/GitHub/kaggle-avazu/avazu_data', 'tmp_data_path': 'f:/GitHub/data/avazu_data/output/', 'train_job_name': 'trian_job', 'src_train_path': 'd:/GitHub/data/avazu_data/train.csv', 'src_test_path': 'd:/GitHub/data/avazu_data/test', 'dst_app_path': 'f:/GitHub/data/avazu_data/output/writer_app.csv', 'dst_site_path': 'f:/GitHub/data/avazu_data/output/writer_site.csv', 'sample_pct': 1, 'xgb_n_trees': 300, 'reverse_dictionary': 'reverse_dictionary.json', 'learning_rate': 0.001, 'rf_feature_list': ['C1', 'C14', 'C15', 'C16', 'C17', 'C18', 'C19', 'C20', 'C21', 'banner_pos', 'device_type', 'device_conn_type'], 'n_trees': 300, 'gbdt_param': {'max_depth': 15, 'eta': 0.02, 'objective': 'binary:logistic', 'verbose': 0, 'subsample': 1.0, 'min_child_weight': 50, 'gamma': 0, 'nthread': 16, 'colsample_bytree': 0.5, 'base_score': 0.16, 'seed': 999}}\n",
      "<built-in method __dir__ of Namespace object at 0x00000283C20CBB70>\n",
      "Simple object for storing attributes.\n",
      "\n",
      "    Implements equality by attribute names and values, and provides a simple\n",
      "    string representation.\n",
      "    \n",
      "<bound method Namespace.__eq__ of Namespace(dst_app_path='f:/GitHub/data/avazu_data/output/writer_app.csv', dst_site_path='f:/GitHub/data/avazu_data/output/writer_site.csv', gbdt_param={'max_depth': 15, 'eta': 0.02, 'objective': 'binary:logistic', 'verbose': 0, 'subsample': 1.0, 'min_child_weight': 50, 'gamma': 0, 'nthread': 16, 'colsample_bytree': 0.5, 'base_score': 0.16, 'seed': 999}, learning_rate=0.001, n_trees=300, output_dir='f:/GitHub/data/avazu_data/output', reverse_dictionary='reverse_dictionary.json', rf_feature_list=['C1', 'C14', 'C15', 'C16', 'C17', 'C18', 'C19', 'C20', 'C21', 'banner_pos', 'device_type', 'device_conn_type'], sample_pct=1, src_test_path='d:/GitHub/data/avazu_data/test', src_train_path='d:/GitHub/data/avazu_data/train.csv', tmp_data_path='f:/GitHub/data/avazu_data/output/', tool_dir='d:/GitHub/jhye_tool', tool_ml_dir='d:/GitHub/jhye_tool/ml', train_job_name='trian_job', train_set_path='d:/GitHub/kaggle-avazu/avazu_data', xgb_n_trees=300)>\n",
      "<built-in method __format__ of Namespace object at 0x00000283C20CBB70>\n",
      "<method-wrapper '__ge__' of Namespace object at 0x00000283C20CBB70>\n",
      "<method-wrapper '__getattribute__' of Namespace object at 0x00000283C20CBB70>\n",
      "<method-wrapper '__gt__' of Namespace object at 0x00000283C20CBB70>\n",
      "None\n",
      "<bound method Namespace.__init__ of Namespace(dst_app_path='f:/GitHub/data/avazu_data/output/writer_app.csv', dst_site_path='f:/GitHub/data/avazu_data/output/writer_site.csv', gbdt_param={'max_depth': 15, 'eta': 0.02, 'objective': 'binary:logistic', 'verbose': 0, 'subsample': 1.0, 'min_child_weight': 50, 'gamma': 0, 'nthread': 16, 'colsample_bytree': 0.5, 'base_score': 0.16, 'seed': 999}, learning_rate=0.001, n_trees=300, output_dir='f:/GitHub/data/avazu_data/output', reverse_dictionary='reverse_dictionary.json', rf_feature_list=['C1', 'C14', 'C15', 'C16', 'C17', 'C18', 'C19', 'C20', 'C21', 'banner_pos', 'device_type', 'device_conn_type'], sample_pct=1, src_test_path='d:/GitHub/data/avazu_data/test', src_train_path='d:/GitHub/data/avazu_data/train.csv', tmp_data_path='f:/GitHub/data/avazu_data/output/', tool_dir='d:/GitHub/jhye_tool', tool_ml_dir='d:/GitHub/jhye_tool/ml', train_job_name='trian_job', train_set_path='d:/GitHub/kaggle-avazu/avazu_data', xgb_n_trees=300)>\n",
      "<built-in method __init_subclass__ of type object at 0x00000283AF110658>\n",
      "<method-wrapper '__le__' of Namespace object at 0x00000283C20CBB70>\n",
      "<method-wrapper '__lt__' of Namespace object at 0x00000283C20CBB70>\n",
      "argparse\n",
      "<method-wrapper '__ne__' of Namespace object at 0x00000283C20CBB70>\n",
      "<built-in method __new__ of type object at 0x00000000613AB580>\n",
      "<built-in method __reduce__ of Namespace object at 0x00000283C20CBB70>\n",
      "<built-in method __reduce_ex__ of Namespace object at 0x00000283C20CBB70>\n",
      "<bound method _AttributeHolder.__repr__ of Namespace(dst_app_path='f:/GitHub/data/avazu_data/output/writer_app.csv', dst_site_path='f:/GitHub/data/avazu_data/output/writer_site.csv', gbdt_param={'max_depth': 15, 'eta': 0.02, 'objective': 'binary:logistic', 'verbose': 0, 'subsample': 1.0, 'min_child_weight': 50, 'gamma': 0, 'nthread': 16, 'colsample_bytree': 0.5, 'base_score': 0.16, 'seed': 999}, learning_rate=0.001, n_trees=300, output_dir='f:/GitHub/data/avazu_data/output', reverse_dictionary='reverse_dictionary.json', rf_feature_list=['C1', 'C14', 'C15', 'C16', 'C17', 'C18', 'C19', 'C20', 'C21', 'banner_pos', 'device_type', 'device_conn_type'], sample_pct=1, src_test_path='d:/GitHub/data/avazu_data/test', src_train_path='d:/GitHub/data/avazu_data/train.csv', tmp_data_path='f:/GitHub/data/avazu_data/output/', tool_dir='d:/GitHub/jhye_tool', tool_ml_dir='d:/GitHub/jhye_tool/ml', train_job_name='trian_job', train_set_path='d:/GitHub/kaggle-avazu/avazu_data', xgb_n_trees=300)>\n",
      "<method-wrapper '__setattr__' of Namespace object at 0x00000283C20CBB70>\n",
      "<built-in method __sizeof__ of Namespace object at 0x00000283C20CBB70>\n",
      "<method-wrapper '__str__' of Namespace object at 0x00000283C20CBB70>\n",
      "<built-in method __subclasshook__ of type object at 0x00000283AF110658>\n",
      "None\n",
      "<bound method _AttributeHolder._get_args of Namespace(dst_app_path='f:/GitHub/data/avazu_data/output/writer_app.csv', dst_site_path='f:/GitHub/data/avazu_data/output/writer_site.csv', gbdt_param={'max_depth': 15, 'eta': 0.02, 'objective': 'binary:logistic', 'verbose': 0, 'subsample': 1.0, 'min_child_weight': 50, 'gamma': 0, 'nthread': 16, 'colsample_bytree': 0.5, 'base_score': 0.16, 'seed': 999}, learning_rate=0.001, n_trees=300, output_dir='f:/GitHub/data/avazu_data/output', reverse_dictionary='reverse_dictionary.json', rf_feature_list=['C1', 'C14', 'C15', 'C16', 'C17', 'C18', 'C19', 'C20', 'C21', 'banner_pos', 'device_type', 'device_conn_type'], sample_pct=1, src_test_path='d:/GitHub/data/avazu_data/test', src_train_path='d:/GitHub/data/avazu_data/train.csv', tmp_data_path='f:/GitHub/data/avazu_data/output/', tool_dir='d:/GitHub/jhye_tool', tool_ml_dir='d:/GitHub/jhye_tool/ml', train_job_name='trian_job', train_set_path='d:/GitHub/kaggle-avazu/avazu_data', xgb_n_trees=300)>\n",
      "<bound method _AttributeHolder._get_kwargs of Namespace(dst_app_path='f:/GitHub/data/avazu_data/output/writer_app.csv', dst_site_path='f:/GitHub/data/avazu_data/output/writer_site.csv', gbdt_param={'max_depth': 15, 'eta': 0.02, 'objective': 'binary:logistic', 'verbose': 0, 'subsample': 1.0, 'min_child_weight': 50, 'gamma': 0, 'nthread': 16, 'colsample_bytree': 0.5, 'base_score': 0.16, 'seed': 999}, learning_rate=0.001, n_trees=300, output_dir='f:/GitHub/data/avazu_data/output', reverse_dictionary='reverse_dictionary.json', rf_feature_list=['C1', 'C14', 'C15', 'C16', 'C17', 'C18', 'C19', 'C20', 'C21', 'banner_pos', 'device_type', 'device_conn_type'], sample_pct=1, src_test_path='d:/GitHub/data/avazu_data/test', src_train_path='d:/GitHub/data/avazu_data/train.csv', tmp_data_path='f:/GitHub/data/avazu_data/output/', tool_dir='d:/GitHub/jhye_tool', tool_ml_dir='d:/GitHub/jhye_tool/ml', train_job_name='trian_job', train_set_path='d:/GitHub/kaggle-avazu/avazu_data', xgb_n_trees=300)>\n",
      "f:/GitHub/data/avazu_data/output/writer_app.csv\n",
      "f:/GitHub/data/avazu_data/output/writer_site.csv\n",
      "{'max_depth': 15, 'eta': 0.02, 'objective': 'binary:logistic', 'verbose': 0, 'subsample': 1.0, 'min_child_weight': 50, 'gamma': 0, 'nthread': 16, 'colsample_bytree': 0.5, 'base_score': 0.16, 'seed': 999}\n",
      "0.001\n",
      "300\n",
      "f:/GitHub/data/avazu_data/output\n",
      "reverse_dictionary.json\n",
      "['C1', 'C14', 'C15', 'C16', 'C17', 'C18', 'C19', 'C20', 'C21', 'banner_pos', 'device_type', 'device_conn_type']\n",
      "1\n",
      "d:/GitHub/data/avazu_data/test\n",
      "d:/GitHub/data/avazu_data/train.csv\n",
      "f:/GitHub/data/avazu_data/output/\n",
      "d:/GitHub/jhye_tool\n",
      "d:/GitHub/jhye_tool/ml\n",
      "trian_job\n",
      "d:/GitHub/kaggle-avazu/avazu_data\n",
      "300\n"
     ]
    }
   ],
   "source": [
    "from flags import FLAGS, unparsed\n"
   ]
  },
  {
   "cell_type": "code",
   "execution_count": 29,
   "metadata": {
    "scrolled": true
   },
   "outputs": [],
   "source": [
    " \"\"\"\n",
    "• id: ad identifier （广告 ID）\n",
    "• click: 0/1 for non-click/click （是否被点击，其中 0 为不被点击，1 为不被点击，此列为目\n",
    "标变量）\n",
    "• hour: format is YYMMDDHH, so 14091123 means 23:00 on Sept. 11, 2014 UTC. （时间）\n",
    "• C1 -- anonymized categorical variable （类别型变量）\n",
    "• banner_pos （广告位置）\n",
    "• site_id （站点 ID）\n",
    "• site_domain （站点领域）\n",
    "• site_category （站点类别）\n",
    "• app_id （APP ID）\n",
    "• app_domai\n",
    "• C14-C21 -- anonymized categorical variables （类别型变量）\n",
    " \"\"\"\n",
    "\n",
    "#读取数据\n",
    "train = pd.read_csv(FLAGS.tmp_data_path+\"C14\")"
   ]
  },
  {
   "cell_type": "markdown",
   "metadata": {},
   "source": [
    "train = pd.read_csv(\"D:/GitHub/kaggle-avazu/avazu_data/train_01.csv\")"
   ]
  },
  {
   "cell_type": "code",
   "execution_count": 30,
   "metadata": {},
   "outputs": [
    {
     "data": {
      "text/html": [
       "<div>\n",
       "<style>\n",
       "    .dataframe thead tr:only-child th {\n",
       "        text-align: right;\n",
       "    }\n",
       "\n",
       "    .dataframe thead th {\n",
       "        text-align: left;\n",
       "    }\n",
       "\n",
       "    .dataframe tbody tr th {\n",
       "        vertical-align: top;\n",
       "    }\n",
       "</style>\n",
       "<table border=\"1\" class=\"dataframe\">\n",
       "  <thead>\n",
       "    <tr style=\"text-align: right;\">\n",
       "      <th></th>\n",
       "      <th>C14</th>\n",
       "    </tr>\n",
       "  </thead>\n",
       "  <tbody>\n",
       "    <tr>\n",
       "      <th>0</th>\n",
       "      <td>15706</td>\n",
       "    </tr>\n",
       "    <tr>\n",
       "      <th>1</th>\n",
       "      <td>15704</td>\n",
       "    </tr>\n",
       "    <tr>\n",
       "      <th>2</th>\n",
       "      <td>15704</td>\n",
       "    </tr>\n",
       "    <tr>\n",
       "      <th>3</th>\n",
       "      <td>15706</td>\n",
       "    </tr>\n",
       "    <tr>\n",
       "      <th>4</th>\n",
       "      <td>18993</td>\n",
       "    </tr>\n",
       "  </tbody>\n",
       "</table>\n",
       "</div>"
      ],
      "text/plain": [
       "     C14\n",
       "0  15706\n",
       "1  15704\n",
       "2  15704\n",
       "3  15706\n",
       "4  18993"
      ]
     },
     "execution_count": 30,
     "metadata": {},
     "output_type": "execute_result"
    }
   ],
   "source": [
    "train.head()"
   ]
  },
  {
   "cell_type": "code",
   "execution_count": 31,
   "metadata": {
    "scrolled": false
   },
   "outputs": [
    {
     "name": "stdout",
     "output_type": "stream",
     "text": [
      "<class 'pandas.core.frame.DataFrame'>\n",
      "RangeIndex: 40428967 entries, 0 to 40428966\n",
      "Data columns (total 1 columns):\n",
      "C14    int64\n",
      "dtypes: int64(1)\n",
      "memory usage: 308.4 MB\n"
     ]
    }
   ],
   "source": [
    "train.info()"
   ]
  },
  {
   "cell_type": "code",
   "execution_count": 34,
   "metadata": {
    "scrolled": true
   },
   "outputs": [
    {
     "data": {
      "text/plain": [
       "2626"
      ]
     },
     "execution_count": 34,
     "metadata": {},
     "output_type": "execute_result"
    }
   ],
   "source": [
    "len(list(set(train['C14'].values)))"
   ]
  },
  {
   "cell_type": "code",
   "execution_count": 35,
   "metadata": {},
   "outputs": [],
   "source": [
    "a=train['C14'].value_counts()"
   ]
  },
  {
   "cell_type": "code",
   "execution_count": 36,
   "metadata": {},
   "outputs": [
    {
     "data": {
      "text/plain": [
       "array([948215, 907004, 765968, ...,      1,      1,      1], dtype=int64)"
      ]
     },
     "execution_count": 36,
     "metadata": {},
     "output_type": "execute_result"
    }
   ],
   "source": [
    "a.values"
   ]
  },
  {
   "cell_type": "code",
   "execution_count": 37,
   "metadata": {},
   "outputs": [
    {
     "data": {
      "image/png": "[encoded data removed]",
      "text/plain": [
       "<matplotlib.figure.Figure at 0x283c56c7c50>"
      ]
     },
     "metadata": {},
     "output_type": "display_data"
    }
   ],
   "source": [
    "import matplotlib.pyplot as plt\n",
    "import seaborn as sns\n",
    "%matplotlib inline\n",
    "plt.scatter(range(a.shape[0]), a.values,color='purple')\n",
    "plt.title(\"count of C14\");"
   ]
  },
  {
   "cell_type": "code",
   "execution_count": 6,
   "metadata": {},
   "outputs": [
    {
     "data": {
      "text/html": [
       "<div>\n",
       "<style scoped>\n",
       "    .dataframe tbody tr th:only-of-type {\n",
       "        vertical-align: middle;\n",
       "    }\n",
       "\n",
       "    .dataframe tbody tr th {\n",
       "        vertical-align: top;\n",
       "    }\n",
       "\n",
       "    .dataframe thead th {\n",
       "        text-align: right;\n",
       "    }\n",
       "</style>\n",
       "<table border=\"1\" class=\"dataframe\">\n",
       "  <thead>\n",
       "    <tr style=\"text-align: right;\">\n",
       "      <th></th>\n",
       "      <th>device_id</th>\n",
       "      <th>device_ip</th>\n",
       "      <th>device_id</th>\n",
       "      <th>device_model</th>\n",
       "    </tr>\n",
       "  </thead>\n",
       "  <tbody>\n",
       "    <tr>\n",
       "      <th>0</th>\n",
       "      <td>a99f214a</td>\n",
       "      <td>ddd2926e</td>\n",
       "      <td>a99f214a</td>\n",
       "      <td>44956a24</td>\n",
       "    </tr>\n",
       "    <tr>\n",
       "      <th>1</th>\n",
       "      <td>a99f214a</td>\n",
       "      <td>96809ac8</td>\n",
       "      <td>a99f214a</td>\n",
       "      <td>711ee120</td>\n",
       "    </tr>\n",
       "    <tr>\n",
       "      <th>2</th>\n",
       "      <td>a99f214a</td>\n",
       "      <td>b3cf8def</td>\n",
       "      <td>a99f214a</td>\n",
       "      <td>8a4875bd</td>\n",
       "    </tr>\n",
       "    <tr>\n",
       "      <th>3</th>\n",
       "      <td>a99f214a</td>\n",
       "      <td>e8275b8f</td>\n",
       "      <td>a99f214a</td>\n",
       "      <td>6332421a</td>\n",
       "    </tr>\n",
       "    <tr>\n",
       "      <th>4</th>\n",
       "      <td>a99f214a</td>\n",
       "      <td>9644d0bf</td>\n",
       "      <td>a99f214a</td>\n",
       "      <td>779d90c2</td>\n",
       "    </tr>\n",
       "    <tr>\n",
       "      <th>5</th>\n",
       "      <td>a99f214a</td>\n",
       "      <td>05241af0</td>\n",
       "      <td>a99f214a</td>\n",
       "      <td>8a4875bd</td>\n",
       "    </tr>\n",
       "    <tr>\n",
       "      <th>6</th>\n",
       "      <td>a99f214a</td>\n",
       "      <td>b264c159</td>\n",
       "      <td>a99f214a</td>\n",
       "      <td>be6db1d7</td>\n",
       "    </tr>\n",
       "    <tr>\n",
       "      <th>7</th>\n",
       "      <td>a99f214a</td>\n",
       "      <td>e6f67278</td>\n",
       "      <td>a99f214a</td>\n",
       "      <td>be74e6fe</td>\n",
       "    </tr>\n",
       "    <tr>\n",
       "      <th>8</th>\n",
       "      <td>a99f214a</td>\n",
       "      <td>37e8da74</td>\n",
       "      <td>a99f214a</td>\n",
       "      <td>5db079b5</td>\n",
       "    </tr>\n",
       "    <tr>\n",
       "      <th>9</th>\n",
       "      <td>c357dbff</td>\n",
       "      <td>f1ac7184</td>\n",
       "      <td>c357dbff</td>\n",
       "      <td>373ecbe6</td>\n",
       "    </tr>\n",
       "    <tr>\n",
       "      <th>10</th>\n",
       "      <td>a99f214a</td>\n",
       "      <td>5d877109</td>\n",
       "      <td>a99f214a</td>\n",
       "      <td>8f5c9827</td>\n",
       "    </tr>\n",
       "    <tr>\n",
       "      <th>11</th>\n",
       "      <td>a99f214a</td>\n",
       "      <td>6f407810</td>\n",
       "      <td>a99f214a</td>\n",
       "      <td>1f0bc64f</td>\n",
       "    </tr>\n",
       "    <tr>\n",
       "      <th>12</th>\n",
       "      <td>a99f214a</td>\n",
       "      <td>58811cdf</td>\n",
       "      <td>a99f214a</td>\n",
       "      <td>8326c04b</td>\n",
       "    </tr>\n",
       "    <tr>\n",
       "      <th>13</th>\n",
       "      <td>a99f214a</td>\n",
       "      <td>72aab6df</td>\n",
       "      <td>a99f214a</td>\n",
       "      <td>04258293</td>\n",
       "    </tr>\n",
       "    <tr>\n",
       "      <th>14</th>\n",
       "      <td>a99f214a</td>\n",
       "      <td>6dec2796</td>\n",
       "      <td>a99f214a</td>\n",
       "      <td>aad45b01</td>\n",
       "    </tr>\n",
       "    <tr>\n",
       "      <th>15</th>\n",
       "      <td>a99f214a</td>\n",
       "      <td>a4f47b2e</td>\n",
       "      <td>a99f214a</td>\n",
       "      <td>8a4875bd</td>\n",
       "    </tr>\n",
       "    <tr>\n",
       "      <th>16</th>\n",
       "      <td>a99f214a</td>\n",
       "      <td>9b1fe278</td>\n",
       "      <td>a99f214a</td>\n",
       "      <td>128f4ba1</td>\n",
       "    </tr>\n",
       "    <tr>\n",
       "      <th>17</th>\n",
       "      <td>a99f214a</td>\n",
       "      <td>c26c53cf</td>\n",
       "      <td>a99f214a</td>\n",
       "      <td>be87996b</td>\n",
       "    </tr>\n",
       "    <tr>\n",
       "      <th>18</th>\n",
       "      <td>a99f214a</td>\n",
       "      <td>b7a69808</td>\n",
       "      <td>a99f214a</td>\n",
       "      <td>158e4944</td>\n",
       "    </tr>\n",
       "    <tr>\n",
       "      <th>19</th>\n",
       "      <td>a99f214a</td>\n",
       "      <td>fa60af6b</td>\n",
       "      <td>a99f214a</td>\n",
       "      <td>b4b19c97</td>\n",
       "    </tr>\n",
       "    <tr>\n",
       "      <th>20</th>\n",
       "      <td>a99f214a</td>\n",
       "      <td>8a308c73</td>\n",
       "      <td>a99f214a</td>\n",
       "      <td>3223bcfe</td>\n",
       "    </tr>\n",
       "    <tr>\n",
       "      <th>21</th>\n",
       "      <td>a99f214a</td>\n",
       "      <td>1b6530bc</td>\n",
       "      <td>a99f214a</td>\n",
       "      <td>1aa0e912</td>\n",
       "    </tr>\n",
       "    <tr>\n",
       "      <th>22</th>\n",
       "      <td>a99f214a</td>\n",
       "      <td>a2d12b33</td>\n",
       "      <td>a99f214a</td>\n",
       "      <td>607e78f2</td>\n",
       "    </tr>\n",
       "    <tr>\n",
       "      <th>23</th>\n",
       "      <td>a99f214a</td>\n",
       "      <td>c6563308</td>\n",
       "      <td>a99f214a</td>\n",
       "      <td>7fdd04d2</td>\n",
       "    </tr>\n",
       "    <tr>\n",
       "      <th>24</th>\n",
       "      <td>a99f214a</td>\n",
       "      <td>e99d0c2e</td>\n",
       "      <td>a99f214a</td>\n",
       "      <td>d25693ce</td>\n",
       "    </tr>\n",
       "    <tr>\n",
       "      <th>25</th>\n",
       "      <td>fb23c543</td>\n",
       "      <td>69890c7f</td>\n",
       "      <td>fb23c543</td>\n",
       "      <td>9fef9da8</td>\n",
       "    </tr>\n",
       "    <tr>\n",
       "      <th>26</th>\n",
       "      <td>a99f214a</td>\n",
       "      <td>c62f7206</td>\n",
       "      <td>a99f214a</td>\n",
       "      <td>69f9dd0e</td>\n",
       "    </tr>\n",
       "    <tr>\n",
       "      <th>27</th>\n",
       "      <td>9af87478</td>\n",
       "      <td>2a2bfc89</td>\n",
       "      <td>9af87478</td>\n",
       "      <td>ecf10acf</td>\n",
       "    </tr>\n",
       "    <tr>\n",
       "      <th>28</th>\n",
       "      <td>a99f214a</td>\n",
       "      <td>50d86760</td>\n",
       "      <td>a99f214a</td>\n",
       "      <td>d787e91b</td>\n",
       "    </tr>\n",
       "    <tr>\n",
       "      <th>29</th>\n",
       "      <td>a99f214a</td>\n",
       "      <td>431b3174</td>\n",
       "      <td>a99f214a</td>\n",
       "      <td>f39b265e</td>\n",
       "    </tr>\n",
       "    <tr>\n",
       "      <th>...</th>\n",
       "      <td>...</td>\n",
       "      <td>...</td>\n",
       "      <td>...</td>\n",
       "      <td>...</td>\n",
       "    </tr>\n",
       "    <tr>\n",
       "      <th>499969</th>\n",
       "      <td>a99f214a</td>\n",
       "      <td>45506830</td>\n",
       "      <td>a99f214a</td>\n",
       "      <td>6e1e2240</td>\n",
       "    </tr>\n",
       "    <tr>\n",
       "      <th>499970</th>\n",
       "      <td>a99f214a</td>\n",
       "      <td>80306e90</td>\n",
       "      <td>a99f214a</td>\n",
       "      <td>1f0bc64f</td>\n",
       "    </tr>\n",
       "    <tr>\n",
       "      <th>499971</th>\n",
       "      <td>a99f214a</td>\n",
       "      <td>97d75693</td>\n",
       "      <td>a99f214a</td>\n",
       "      <td>8a4875bd</td>\n",
       "    </tr>\n",
       "    <tr>\n",
       "      <th>499972</th>\n",
       "      <td>a99f214a</td>\n",
       "      <td>ee0f3ff6</td>\n",
       "      <td>a99f214a</td>\n",
       "      <td>9bbdb88c</td>\n",
       "    </tr>\n",
       "    <tr>\n",
       "      <th>499973</th>\n",
       "      <td>a99f214a</td>\n",
       "      <td>ff1ecab0</td>\n",
       "      <td>a99f214a</td>\n",
       "      <td>ecb851b2</td>\n",
       "    </tr>\n",
       "    <tr>\n",
       "      <th>499974</th>\n",
       "      <td>a99f214a</td>\n",
       "      <td>07e63fe1</td>\n",
       "      <td>a99f214a</td>\n",
       "      <td>2203a096</td>\n",
       "    </tr>\n",
       "    <tr>\n",
       "      <th>499975</th>\n",
       "      <td>a99f214a</td>\n",
       "      <td>24b7f0e6</td>\n",
       "      <td>a99f214a</td>\n",
       "      <td>2fe826aa</td>\n",
       "    </tr>\n",
       "    <tr>\n",
       "      <th>499976</th>\n",
       "      <td>a99f214a</td>\n",
       "      <td>1cf29716</td>\n",
       "      <td>a99f214a</td>\n",
       "      <td>0eb711ec</td>\n",
       "    </tr>\n",
       "    <tr>\n",
       "      <th>499977</th>\n",
       "      <td>a99f214a</td>\n",
       "      <td>fe1972dd</td>\n",
       "      <td>a99f214a</td>\n",
       "      <td>d787e91b</td>\n",
       "    </tr>\n",
       "    <tr>\n",
       "      <th>499978</th>\n",
       "      <td>a99f214a</td>\n",
       "      <td>ab38c26a</td>\n",
       "      <td>a99f214a</td>\n",
       "      <td>1f0bc64f</td>\n",
       "    </tr>\n",
       "    <tr>\n",
       "      <th>499979</th>\n",
       "      <td>a99f214a</td>\n",
       "      <td>0c0635a2</td>\n",
       "      <td>a99f214a</td>\n",
       "      <td>72a00661</td>\n",
       "    </tr>\n",
       "    <tr>\n",
       "      <th>499980</th>\n",
       "      <td>6e639f15</td>\n",
       "      <td>28e52c03</td>\n",
       "      <td>6e639f15</td>\n",
       "      <td>021b641d</td>\n",
       "    </tr>\n",
       "    <tr>\n",
       "      <th>499981</th>\n",
       "      <td>a99f214a</td>\n",
       "      <td>eb82bf3b</td>\n",
       "      <td>a99f214a</td>\n",
       "      <td>8a4875bd</td>\n",
       "    </tr>\n",
       "    <tr>\n",
       "      <th>499982</th>\n",
       "      <td>a99f214a</td>\n",
       "      <td>4a040c6a</td>\n",
       "      <td>a99f214a</td>\n",
       "      <td>ecb851b2</td>\n",
       "    </tr>\n",
       "    <tr>\n",
       "      <th>499983</th>\n",
       "      <td>a99f214a</td>\n",
       "      <td>50aa7e41</td>\n",
       "      <td>a99f214a</td>\n",
       "      <td>9e3836ff</td>\n",
       "    </tr>\n",
       "    <tr>\n",
       "      <th>499984</th>\n",
       "      <td>a99f214a</td>\n",
       "      <td>209e2a76</td>\n",
       "      <td>a99f214a</td>\n",
       "      <td>1f0bc64f</td>\n",
       "    </tr>\n",
       "    <tr>\n",
       "      <th>499985</th>\n",
       "      <td>a99f214a</td>\n",
       "      <td>02c1c53f</td>\n",
       "      <td>a99f214a</td>\n",
       "      <td>d25693ce</td>\n",
       "    </tr>\n",
       "    <tr>\n",
       "      <th>499986</th>\n",
       "      <td>a99f214a</td>\n",
       "      <td>08a64be0</td>\n",
       "      <td>a99f214a</td>\n",
       "      <td>be74e6fe</td>\n",
       "    </tr>\n",
       "    <tr>\n",
       "      <th>499987</th>\n",
       "      <td>a99f214a</td>\n",
       "      <td>67f889e6</td>\n",
       "      <td>a99f214a</td>\n",
       "      <td>8a4875bd</td>\n",
       "    </tr>\n",
       "    <tr>\n",
       "      <th>499988</th>\n",
       "      <td>a99f214a</td>\n",
       "      <td>735c7c0e</td>\n",
       "      <td>a99f214a</td>\n",
       "      <td>d787e91b</td>\n",
       "    </tr>\n",
       "    <tr>\n",
       "      <th>499989</th>\n",
       "      <td>a99f214a</td>\n",
       "      <td>41b91674</td>\n",
       "      <td>a99f214a</td>\n",
       "      <td>42a58f02</td>\n",
       "    </tr>\n",
       "    <tr>\n",
       "      <th>499990</th>\n",
       "      <td>a99f214a</td>\n",
       "      <td>513065f7</td>\n",
       "      <td>a99f214a</td>\n",
       "      <td>7abbbd5c</td>\n",
       "    </tr>\n",
       "    <tr>\n",
       "      <th>499991</th>\n",
       "      <td>a99f214a</td>\n",
       "      <td>a89a4c75</td>\n",
       "      <td>a99f214a</td>\n",
       "      <td>5ef191d3</td>\n",
       "    </tr>\n",
       "    <tr>\n",
       "      <th>499992</th>\n",
       "      <td>a99f214a</td>\n",
       "      <td>fbffe907</td>\n",
       "      <td>a99f214a</td>\n",
       "      <td>779d90c2</td>\n",
       "    </tr>\n",
       "    <tr>\n",
       "      <th>499993</th>\n",
       "      <td>a99f214a</td>\n",
       "      <td>7d97d652</td>\n",
       "      <td>a99f214a</td>\n",
       "      <td>36b67a2a</td>\n",
       "    </tr>\n",
       "    <tr>\n",
       "      <th>499994</th>\n",
       "      <td>a99f214a</td>\n",
       "      <td>ba15c5ba</td>\n",
       "      <td>a99f214a</td>\n",
       "      <td>d787e91b</td>\n",
       "    </tr>\n",
       "    <tr>\n",
       "      <th>499995</th>\n",
       "      <td>a99f214a</td>\n",
       "      <td>b6d2d2fa</td>\n",
       "      <td>a99f214a</td>\n",
       "      <td>9b5ce758</td>\n",
       "    </tr>\n",
       "    <tr>\n",
       "      <th>499996</th>\n",
       "      <td>a99f214a</td>\n",
       "      <td>e54c1344</td>\n",
       "      <td>a99f214a</td>\n",
       "      <td>a0f5f879</td>\n",
       "    </tr>\n",
       "    <tr>\n",
       "      <th>499997</th>\n",
       "      <td>42625159</td>\n",
       "      <td>396a38a8</td>\n",
       "      <td>42625159</td>\n",
       "      <td>6f21a189</td>\n",
       "    </tr>\n",
       "    <tr>\n",
       "      <th>499998</th>\n",
       "      <td>a99f214a</td>\n",
       "      <td>fa7a267e</td>\n",
       "      <td>a99f214a</td>\n",
       "      <td>05e70df4</td>\n",
       "    </tr>\n",
       "  </tbody>\n",
       "</table>\n",
       "<p>499999 rows × 4 columns</p>\n",
       "</div>"
      ],
      "text/plain": [
       "       device_id device_ip device_id device_model\n",
       "0       a99f214a  ddd2926e  a99f214a     44956a24\n",
       "1       a99f214a  96809ac8  a99f214a     711ee120\n",
       "2       a99f214a  b3cf8def  a99f214a     8a4875bd\n",
       "3       a99f214a  e8275b8f  a99f214a     6332421a\n",
       "4       a99f214a  9644d0bf  a99f214a     779d90c2\n",
       "5       a99f214a  05241af0  a99f214a     8a4875bd\n",
       "6       a99f214a  b264c159  a99f214a     be6db1d7\n",
       "7       a99f214a  e6f67278  a99f214a     be74e6fe\n",
       "8       a99f214a  37e8da74  a99f214a     5db079b5\n",
       "9       c357dbff  f1ac7184  c357dbff     373ecbe6\n",
       "10      a99f214a  5d877109  a99f214a     8f5c9827\n",
       "11      a99f214a  6f407810  a99f214a     1f0bc64f\n",
       "12      a99f214a  58811cdf  a99f214a     8326c04b\n",
       "13      a99f214a  72aab6df  a99f214a     04258293\n",
       "14      a99f214a  6dec2796  a99f214a     aad45b01\n",
       "15      a99f214a  a4f47b2e  a99f214a     8a4875bd\n",
       "16      a99f214a  9b1fe278  a99f214a     128f4ba1\n",
       "17      a99f214a  c26c53cf  a99f214a     be87996b\n",
       "18      a99f214a  b7a69808  a99f214a     158e4944\n",
       "19      a99f214a  fa60af6b  a99f214a     b4b19c97\n",
       "20      a99f214a  8a308c73  a99f214a     3223bcfe\n",
       "21      a99f214a  1b6530bc  a99f214a     1aa0e912\n",
       "22      a99f214a  a2d12b33  a99f214a     607e78f2\n",
       "23      a99f214a  c6563308  a99f214a     7fdd04d2\n",
       "24      a99f214a  e99d0c2e  a99f214a     d25693ce\n",
       "25      fb23c543  69890c7f  fb23c543     9fef9da8\n",
       "26      a99f214a  c62f7206  a99f214a     69f9dd0e\n",
       "27      9af87478  2a2bfc89  9af87478     ecf10acf\n",
       "28      a99f214a  50d86760  a99f214a     d787e91b\n",
       "29      a99f214a  431b3174  a99f214a     f39b265e\n",
       "...          ...       ...       ...          ...\n",
       "499969  a99f214a  45506830  a99f214a     6e1e2240\n",
       "499970  a99f214a  80306e90  a99f214a     1f0bc64f\n",
       "499971  a99f214a  97d75693  a99f214a     8a4875bd\n",
       "499972  a99f214a  ee0f3ff6  a99f214a     9bbdb88c\n",
       "499973  a99f214a  ff1ecab0  a99f214a     ecb851b2\n",
       "499974  a99f214a  07e63fe1  a99f214a     2203a096\n",
       "499975  a99f214a  24b7f0e6  a99f214a     2fe826aa\n",
       "499976  a99f214a  1cf29716  a99f214a     0eb711ec\n",
       "499977  a99f214a  fe1972dd  a99f214a     d787e91b\n",
       "499978  a99f214a  ab38c26a  a99f214a     1f0bc64f\n",
       "499979  a99f214a  0c0635a2  a99f214a     72a00661\n",
       "499980  6e639f15  28e52c03  6e639f15     021b641d\n",
       "499981  a99f214a  eb82bf3b  a99f214a     8a4875bd\n",
       "499982  a99f214a  4a040c6a  a99f214a     ecb851b2\n",
       "499983  a99f214a  50aa7e41  a99f214a     9e3836ff\n",
       "499984  a99f214a  209e2a76  a99f214a     1f0bc64f\n",
       "499985  a99f214a  02c1c53f  a99f214a     d25693ce\n",
       "499986  a99f214a  08a64be0  a99f214a     be74e6fe\n",
       "499987  a99f214a  67f889e6  a99f214a     8a4875bd\n",
       "499988  a99f214a  735c7c0e  a99f214a     d787e91b\n",
       "499989  a99f214a  41b91674  a99f214a     42a58f02\n",
       "499990  a99f214a  513065f7  a99f214a     7abbbd5c\n",
       "499991  a99f214a  a89a4c75  a99f214a     5ef191d3\n",
       "499992  a99f214a  fbffe907  a99f214a     779d90c2\n",
       "499993  a99f214a  7d97d652  a99f214a     36b67a2a\n",
       "499994  a99f214a  ba15c5ba  a99f214a     d787e91b\n",
       "499995  a99f214a  b6d2d2fa  a99f214a     9b5ce758\n",
       "499996  a99f214a  e54c1344  a99f214a     a0f5f879\n",
       "499997  42625159  396a38a8  42625159     6f21a189\n",
       "499998  a99f214a  fa7a267e  a99f214a     05e70df4\n",
       "\n",
       "[499999 rows x 4 columns]"
      ]
     },
     "execution_count": 6,
     "metadata": {},
     "output_type": "execute_result"
    }
   ],
   "source": [
    "train[['device_id','device_ip','device_id','device_model']]"
   ]
  },
  {
   "cell_type": "markdown",
   "metadata": {},
   "source": [
    "# 1、处理hour特征，格式为YYMMDDHH\n",
    "数据为21-31，共11天的数据"
   ]
  },
  {
   "cell_type": "code",
   "execution_count": 11,
   "metadata": {},
   "outputs": [
    {
     "data": {
      "text/plain": [
       "0         1.0\n",
       "1         1.0\n",
       "2         1.0\n",
       "3         1.0\n",
       "4         1.0\n",
       "5         1.0\n",
       "6         1.0\n",
       "7         1.0\n",
       "8         1.0\n",
       "9         1.0\n",
       "10        1.0\n",
       "11        1.0\n",
       "12        1.0\n",
       "13        1.0\n",
       "14        1.0\n",
       "15        1.0\n",
       "16        1.0\n",
       "17        1.0\n",
       "18        1.0\n",
       "19        1.0\n",
       "20        1.0\n",
       "21        1.0\n",
       "22        1.0\n",
       "23        1.0\n",
       "24        1.0\n",
       "25        1.0\n",
       "26        1.0\n",
       "27        1.0\n",
       "28        1.0\n",
       "29        1.0\n",
       "         ... \n",
       "499969    4.0\n",
       "499970    4.0\n",
       "499971    4.0\n",
       "499972    4.0\n",
       "499973    4.0\n",
       "499974    4.0\n",
       "499975    4.0\n",
       "499976    4.0\n",
       "499977    4.0\n",
       "499978    4.0\n",
       "499979    4.0\n",
       "499980    4.0\n",
       "499981    4.0\n",
       "499982    4.0\n",
       "499983    4.0\n",
       "499984    4.0\n",
       "499985    4.0\n",
       "499986    4.0\n",
       "499987    4.0\n",
       "499988    4.0\n",
       "499989    4.0\n",
       "499990    4.0\n",
       "499991    4.0\n",
       "499992    4.0\n",
       "499993    4.0\n",
       "499994    4.0\n",
       "499995    4.0\n",
       "499996    4.0\n",
       "499997    4.0\n",
       "499998    4.0\n",
       "Name: day_hour_next, Length: 499999, dtype: float64"
      ]
     },
     "execution_count": 11,
     "metadata": {},
     "output_type": "execute_result"
    }
   ],
   "source": [
    "train['day']=np.round(train.hour % 10000 / 100)\n",
    "train['hour1'] = np.round(train.hour % 100)\n",
    "train['day_hour'] = (train.day.values - 21) * 24 + train.hour1.values\n",
    "train['day_hour_prev'] = train['day_hour'] - 1\n",
    "train['day_hour_next'] = train['day_hour'] + 1\n",
    "train['day_hour_next']"
   ]
  },
  {
   "cell_type": "code",
   "execution_count": 6,
   "metadata": {
    "collapsed": true
   },
   "outputs": [],
   "source": [
    "train['day']=np.round(train.hour % 10000 / 100)\n",
    "train['hour1'] = np.round(train.hour % 100)\n",
    "train['day_hour'] = (train.day.values - 21) * 24 + train.hour1.values\n",
    "train['day_hour_prev'] = train['day_hour'] - 1\n",
    "train['day_hour_next'] = train['day_hour'] + 1"
   ]
  },
  {
   "cell_type": "markdown",
   "metadata": {},
   "source": [
    "#  app_id"
   ]
  },
  {
   "cell_type": "code",
   "execution_count": 7,
   "metadata": {},
   "outputs": [
    {
     "name": "stderr",
     "output_type": "stream",
     "text": [
      "C:\\ProgramData\\Anaconda3\\lib\\site-packages\\ipykernel_launcher.py:3: DeprecationWarning: \n",
      ".ix is deprecated. Please use\n",
      ".loc for label based indexing or\n",
      ".iloc for positional indexing\n",
      "\n",
      "See the documentation here:\n",
      "http://pandas.pydata.org/pandas-docs/stable/indexing.html#ix-indexer-is-deprecated\n",
      "  This is separate from the ipykernel package so we can avoid doing imports until\n"
     ]
    }
   ],
   "source": [
    "train['app_or_web'] = 0\n",
    "#如果app_id='ecad2386',mobile_dev=1\n",
    "train.ix[train.app_id.values=='ecad2386', 'app_or_web'] = 1"
   ]
  },
  {
   "cell_type": "code",
   "execution_count": 8,
   "metadata": {
    "collapsed": true
   },
   "outputs": [],
   "source": [
    "#串联app_id和site_id\n",
    "train['app_site_id'] = np.add(train.app_id.values, train.site_id.values)"
   ]
  },
  {
   "cell_type": "code",
   "execution_count": 9,
   "metadata": {
    "collapsed": true
   },
   "outputs": [],
   "source": [
    "train['dev_id_ip'] = pd.Series(np.add(train.device_id.values , train.device_ip.values)).astype('category').values.codes"
   ]
  },
  {
   "cell_type": "code",
   "execution_count": 10,
   "metadata": {},
   "outputs": [
    {
     "data": {
      "text/html": [
       "<div>\n",
       "<style>\n",
       "    .dataframe thead tr:only-child th {\n",
       "        text-align: right;\n",
       "    }\n",
       "\n",
       "    .dataframe thead th {\n",
       "        text-align: left;\n",
       "    }\n",
       "\n",
       "    .dataframe tbody tr th {\n",
       "        vertical-align: top;\n",
       "    }\n",
       "</style>\n",
       "<table border=\"1\" class=\"dataframe\">\n",
       "  <thead>\n",
       "    <tr style=\"text-align: right;\">\n",
       "      <th></th>\n",
       "      <th>id</th>\n",
       "      <th>click</th>\n",
       "      <th>hour</th>\n",
       "      <th>C1</th>\n",
       "      <th>banner_pos</th>\n",
       "      <th>site_id</th>\n",
       "      <th>site_domain</th>\n",
       "      <th>site_category</th>\n",
       "      <th>app_id</th>\n",
       "      <th>app_domain</th>\n",
       "      <th>...</th>\n",
       "      <th>C20</th>\n",
       "      <th>C21</th>\n",
       "      <th>day</th>\n",
       "      <th>hour1</th>\n",
       "      <th>day_hour</th>\n",
       "      <th>day_hour_prev</th>\n",
       "      <th>day_hour_next</th>\n",
       "      <th>app_or_web</th>\n",
       "      <th>app_site_id</th>\n",
       "      <th>dev_id_ip</th>\n",
       "    </tr>\n",
       "  </thead>\n",
       "  <tbody>\n",
       "    <tr>\n",
       "      <th>0</th>\n",
       "      <td>1.000009e+18</td>\n",
       "      <td>0</td>\n",
       "      <td>14102100</td>\n",
       "      <td>1005</td>\n",
       "      <td>0</td>\n",
       "      <td>1fbe01fe</td>\n",
       "      <td>f3845767</td>\n",
       "      <td>28905ebd</td>\n",
       "      <td>ecad2386</td>\n",
       "      <td>7801e8d9</td>\n",
       "      <td>...</td>\n",
       "      <td>-1</td>\n",
       "      <td>79</td>\n",
       "      <td>21.0</td>\n",
       "      <td>0</td>\n",
       "      <td>0.0</td>\n",
       "      <td>-1.0</td>\n",
       "      <td>1.0</td>\n",
       "      <td>1</td>\n",
       "      <td>ecad23861fbe01fe</td>\n",
       "      <td>148269</td>\n",
       "    </tr>\n",
       "    <tr>\n",
       "      <th>1</th>\n",
       "      <td>1.000017e+19</td>\n",
       "      <td>0</td>\n",
       "      <td>14102100</td>\n",
       "      <td>1005</td>\n",
       "      <td>0</td>\n",
       "      <td>1fbe01fe</td>\n",
       "      <td>f3845767</td>\n",
       "      <td>28905ebd</td>\n",
       "      <td>ecad2386</td>\n",
       "      <td>7801e8d9</td>\n",
       "      <td>...</td>\n",
       "      <td>100084</td>\n",
       "      <td>79</td>\n",
       "      <td>21.0</td>\n",
       "      <td>0</td>\n",
       "      <td>0.0</td>\n",
       "      <td>-1.0</td>\n",
       "      <td>1.0</td>\n",
       "      <td>1</td>\n",
       "      <td>ecad23861fbe01fe</td>\n",
       "      <td>110010</td>\n",
       "    </tr>\n",
       "    <tr>\n",
       "      <th>2</th>\n",
       "      <td>1.000037e+19</td>\n",
       "      <td>0</td>\n",
       "      <td>14102100</td>\n",
       "      <td>1005</td>\n",
       "      <td>0</td>\n",
       "      <td>1fbe01fe</td>\n",
       "      <td>f3845767</td>\n",
       "      <td>28905ebd</td>\n",
       "      <td>ecad2386</td>\n",
       "      <td>7801e8d9</td>\n",
       "      <td>...</td>\n",
       "      <td>100084</td>\n",
       "      <td>79</td>\n",
       "      <td>21.0</td>\n",
       "      <td>0</td>\n",
       "      <td>0.0</td>\n",
       "      <td>-1.0</td>\n",
       "      <td>1.0</td>\n",
       "      <td>1</td>\n",
       "      <td>ecad23861fbe01fe</td>\n",
       "      <td>125739</td>\n",
       "    </tr>\n",
       "    <tr>\n",
       "      <th>3</th>\n",
       "      <td>1.000064e+19</td>\n",
       "      <td>0</td>\n",
       "      <td>14102100</td>\n",
       "      <td>1005</td>\n",
       "      <td>0</td>\n",
       "      <td>1fbe01fe</td>\n",
       "      <td>f3845767</td>\n",
       "      <td>28905ebd</td>\n",
       "      <td>ecad2386</td>\n",
       "      <td>7801e8d9</td>\n",
       "      <td>...</td>\n",
       "      <td>100084</td>\n",
       "      <td>79</td>\n",
       "      <td>21.0</td>\n",
       "      <td>0</td>\n",
       "      <td>0.0</td>\n",
       "      <td>-1.0</td>\n",
       "      <td>1.0</td>\n",
       "      <td>1</td>\n",
       "      <td>ecad23861fbe01fe</td>\n",
       "      <td>153812</td>\n",
       "    </tr>\n",
       "    <tr>\n",
       "      <th>4</th>\n",
       "      <td>1.000068e+19</td>\n",
       "      <td>0</td>\n",
       "      <td>14102100</td>\n",
       "      <td>1005</td>\n",
       "      <td>1</td>\n",
       "      <td>fe8cc448</td>\n",
       "      <td>9166c161</td>\n",
       "      <td>0569f928</td>\n",
       "      <td>ecad2386</td>\n",
       "      <td>7801e8d9</td>\n",
       "      <td>...</td>\n",
       "      <td>-1</td>\n",
       "      <td>157</td>\n",
       "      <td>21.0</td>\n",
       "      <td>0</td>\n",
       "      <td>0.0</td>\n",
       "      <td>-1.0</td>\n",
       "      <td>1.0</td>\n",
       "      <td>1</td>\n",
       "      <td>ecad2386fe8cc448</td>\n",
       "      <td>109872</td>\n",
       "    </tr>\n",
       "  </tbody>\n",
       "</table>\n",
       "<p>5 rows × 32 columns</p>\n",
       "</div>"
      ],
      "text/plain": [
       "             id  click      hour    C1  banner_pos   site_id site_domain  \\\n",
       "0  1.000009e+18      0  14102100  1005           0  1fbe01fe    f3845767   \n",
       "1  1.000017e+19      0  14102100  1005           0  1fbe01fe    f3845767   \n",
       "2  1.000037e+19      0  14102100  1005           0  1fbe01fe    f3845767   \n",
       "3  1.000064e+19      0  14102100  1005           0  1fbe01fe    f3845767   \n",
       "4  1.000068e+19      0  14102100  1005           1  fe8cc448    9166c161   \n",
       "\n",
       "  site_category    app_id app_domain    ...         C20  C21   day hour1  \\\n",
       "0      28905ebd  ecad2386   7801e8d9    ...          -1   79  21.0     0   \n",
       "1      28905ebd  ecad2386   7801e8d9    ...      100084   79  21.0     0   \n",
       "2      28905ebd  ecad2386   7801e8d9    ...      100084   79  21.0     0   \n",
       "3      28905ebd  ecad2386   7801e8d9    ...      100084   79  21.0     0   \n",
       "4      0569f928  ecad2386   7801e8d9    ...          -1  157  21.0     0   \n",
       "\n",
       "   day_hour  day_hour_prev  day_hour_next  app_or_web       app_site_id  \\\n",
       "0       0.0           -1.0            1.0           1  ecad23861fbe01fe   \n",
       "1       0.0           -1.0            1.0           1  ecad23861fbe01fe   \n",
       "2       0.0           -1.0            1.0           1  ecad23861fbe01fe   \n",
       "3       0.0           -1.0            1.0           1  ecad23861fbe01fe   \n",
       "4       0.0           -1.0            1.0           1  ecad2386fe8cc448   \n",
       "\n",
       "   dev_id_ip  \n",
       "0     148269  \n",
       "1     110010  \n",
       "2     125739  \n",
       "3     153812  \n",
       "4     109872  \n",
       "\n",
       "[5 rows x 32 columns]"
      ]
     },
     "execution_count": 10,
     "metadata": {},
     "output_type": "execute_result"
    }
   ],
   "source": [
    "train.head()"
   ]
  },
  {
   "cell_type": "code",
   "execution_count": 11,
   "metadata": {
    "collapsed": true
   },
   "outputs": [],
   "source": [
    "import sys\n",
    "sys.path.append('D:\\GitHub\\jhye_tool\\ml')\n",
    "sys.path.append('D:\\GitHub\\jhye_tool')\n"
   ]
  },
  {
   "cell_type": "code",
   "execution_count": 12,
   "metadata": {
    "collapsed": true
   },
   "outputs": [],
   "source": [
    "filter_t1 = np.logical_and(train.day.values != 20, train.day.values < 31)"
   ]
  },
  {
   "cell_type": "code",
   "execution_count": 16,
   "metadata": {
    "collapsed": true
   },
   "outputs": [],
   "source": [
    "from ml_utils import *\n"
   ]
  },
  {
   "cell_type": "code",
   "execution_count": 17,
   "metadata": {},
   "outputs": [
    {
     "name": "stderr",
     "output_type": "stream",
     "text": [
      "2018-06-11 11:10:32,440 - DEBUG - ml_utils.py:220 - 0.16407232814465628\n",
      "2018-06-11 11:10:32,441 - DEBUG - ml_utils.py:224 - 1\n",
      "2018-06-11 11:10:32,593 - DEBUG - ml_utils.py:237 - 1\n",
      "2018-06-11 11:10:32,593 - DEBUG - ml_utils.py:238 - 2\n"
     ]
    },
    {
     "data": {
      "text/plain": [
       "{'cnt': array([], dtype=int64), 'exp': array([], dtype=float64)}"
      ]
     },
     "execution_count": 17,
     "metadata": {},
     "output_type": "execute_result"
    }
   ],
   "source": [
    "calcTVTransform(train,'app_or_web','click',10,filter_t1)"
   ]
  },
  {
   "cell_type": "code",
   "execution_count": 15,
   "metadata": {},
   "outputs": [
    {
     "data": {
      "text/plain": [
       "0.16407232814465628"
      ]
     },
     "execution_count": 15,
     "metadata": {},
     "output_type": "execute_result"
    }
   ],
   "source": [
    "train.ix[filter_t1, 'click'].mean()"
   ]
  },
  {
   "cell_type": "code",
   "execution_count": 39,
   "metadata": {
    "collapsed": true
   },
   "outputs": [],
   "source": [
    "org_idx = np.zeros(train.site_id.size, dtype=np.int)"
   ]
  },
  {
   "cell_type": "code",
   "execution_count": 40,
   "metadata": {},
   "outputs": [
    {
     "data": {
      "text/plain": [
       "(499999,)"
      ]
     },
     "execution_count": 40,
     "metadata": {},
     "output_type": "execute_result"
    }
   ],
   "source": [
    "org_idx.shape"
   ]
  },
  {
   "cell_type": "code",
   "execution_count": 41,
   "metadata": {
    "collapsed": true
   },
   "outputs": [],
   "source": [
    "_ord = np.lexsort((train.site_id.values, train.site_id.values))"
   ]
  },
  {
   "cell_type": "code",
   "execution_count": 42,
   "metadata": {},
   "outputs": [
    {
     "data": {
      "text/plain": [
       "array([ 36992, 324971,  74744, ..., 379599, 427572, 472669], dtype=int64)"
      ]
     },
     "execution_count": 42,
     "metadata": {},
     "output_type": "execute_result"
    }
   ],
   "source": [
    "_ord"
   ]
  },
  {
   "cell_type": "code",
   "execution_count": 43,
   "metadata": {},
   "outputs": [
    {
     "data": {
      "text/plain": [
       "array([0, 0, 0, ..., 0, 0, 0])"
      ]
     },
     "execution_count": 43,
     "metadata": {},
     "output_type": "execute_result"
    }
   ],
   "source": [
    "org_idx"
   ]
  },
  {
   "cell_type": "code",
   "execution_count": 46,
   "metadata": {},
   "outputs": [
    {
     "data": {
      "text/plain": [
       "array([     0,      1,      2, ..., 499996, 499997, 499998])"
      ]
     },
     "execution_count": 46,
     "metadata": {},
     "output_type": "execute_result"
    }
   ],
   "source": [
    "np.asarray(range(train.site_id.size))"
   ]
  },
  {
   "cell_type": "code",
   "execution_count": 44,
   "metadata": {
    "collapsed": true,
    "scrolled": false
   },
   "outputs": [],
   "source": [
    "org_idx[_ord] = np.asarray(range(train.site_id.size))"
   ]
  },
  {
   "cell_type": "code",
   "execution_count": 48,
   "metadata": {},
   "outputs": [
    {
     "data": {
      "text/plain": [
       "1"
      ]
     },
     "execution_count": 48,
     "metadata": {},
     "output_type": "execute_result"
    }
   ],
   "source": [
    "org_idx[324971]"
   ]
  },
  {
   "cell_type": "code",
   "execution_count": 52,
   "metadata": {
    "collapsed": true
   },
   "outputs": [],
   "source": [
    "import collections\n",
    "history = collections.defaultdict(lambda: {'history': '', 'buffer': '', 'prev_hour': ''})\n"
   ]
  },
  {
   "cell_type": "code",
   "execution_count": 54,
   "metadata": {
    "collapsed": true
   },
   "outputs": [],
   "source": [
    "history['1']=1"
   ]
  },
  {
   "cell_type": "code",
   "execution_count": 57,
   "metadata": {},
   "outputs": [
    {
     "data": {
      "text/plain": [
       "{'buffer': '', 'history': '', 'prev_hour': ''}"
      ]
     },
     "execution_count": 57,
     "metadata": {},
     "output_type": "execute_result"
    }
   ],
   "source": [
    "history['buffer']"
   ]
  },
  {
   "cell_type": "code",
   "execution_count": null,
   "metadata": {
    "collapsed": true
   },
   "outputs": [],
   "source": []
  }
 ],
 "metadata": {
  "kernelspec": {
   "display_name": "Python 3",
   "language": "python",
   "name": "python3"
  },
  "language_info": {
   "codemirror_mode": {
    "name": "ipython",
    "version": 3
   },
   "file_extension": ".py",
   "mimetype": "text/x-python",
   "name": "python",
   "nbconvert_exporter": "python",
   "pygments_lexer": "ipython3",
   "version": "3.6.3"
  }
 },
 "nbformat": 4,
 "nbformat_minor": 2
}
