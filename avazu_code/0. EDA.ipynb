{
 "cells": [
  {
   "cell_type": "markdown",
   "metadata": {},
   "source": [
    "# 数据探索\n"
   ]
  },
  {
   "cell_type": "code",
   "execution_count": 1,
   "metadata": {
    "collapsed": true
   },
   "outputs": [],
   "source": [
    "import pandas as pd\n",
    "import numpy as np"
   ]
  },
  {
   "cell_type": "code",
   "execution_count": 2,
   "metadata": {},
   "outputs": [
    {
     "name": "stdout",
     "output_type": "stream",
     "text": [
      "['', 'C:\\\\ProgramData\\\\Anaconda3\\\\python36.zip', 'C:\\\\ProgramData\\\\Anaconda3\\\\DLLs', 'C:\\\\ProgramData\\\\Anaconda3\\\\lib', 'C:\\\\ProgramData\\\\Anaconda3', 'C:\\\\ProgramData\\\\Anaconda3\\\\lib\\\\site-packages', 'C:\\\\ProgramData\\\\Anaconda3\\\\lib\\\\site-packages\\\\Babel-2.5.0-py3.6.egg', 'C:\\\\ProgramData\\\\Anaconda3\\\\lib\\\\site-packages\\\\xgboost-0.7-py3.6.egg', 'C:\\\\ProgramData\\\\Anaconda3\\\\lib\\\\site-packages\\\\win32', 'C:\\\\ProgramData\\\\Anaconda3\\\\lib\\\\site-packages\\\\win32\\\\lib', 'C:\\\\ProgramData\\\\Anaconda3\\\\lib\\\\site-packages\\\\Pythonwin', 'C:\\\\ProgramData\\\\Anaconda3\\\\lib\\\\site-packages\\\\IPython\\\\extensions', 'C:\\\\Users\\\\huang\\\\.ipython', 'D:\\\\GitHub\\\\kaggle-avazu\\\\avazu_code\\\\ml', 'D:\\\\GitHub\\\\kaggle-avazu\\\\avazu_code\\\\ml/..']\n"
     ]
    }
   ],
   "source": [
    "from flags import FLAGS, unparsed\n",
    "from ml.ml_utils import *\n",
    "import matplotlib.pyplot as plt\n",
    "import seaborn as sns\n",
    "%matplotlib inline\n"
   ]
  },
  {
   "cell_type": "code",
   "execution_count": 3,
   "metadata": {
    "collapsed": true
   },
   "outputs": [],
   "source": [
    "from joblib import dump, load, Parallel, delayed\n"
   ]
  },
  {
   "cell_type": "code",
   "execution_count": 4,
   "metadata": {
    "scrolled": true
   },
   "outputs": [
    {
     "data": {
      "text/plain": [
       "{'boosting_type': 'gbdt',\n",
       " 'max_depth': 7,\n",
       " 'metric': ['auc', 'binary_logloss'],\n",
       " 'num_leaves': 55,\n",
       " 'objective': 'binary',\n",
       " 'verbose': 1}"
      ]
     },
     "execution_count": 4,
     "metadata": {},
     "output_type": "execute_result"
    }
   ],
   "source": [
    "gbm = load('D:/'+'cv_params_max_depthlgbm.joblib_dat')\n",
    "gbm"
   ]
  },
  {
   "cell_type": "code",
   "execution_count": 6,
   "metadata": {},
   "outputs": [
    {
     "data": {
      "text/html": [
       "<div>\n",
       "<style scoped>\n",
       "    .dataframe tbody tr th:only-of-type {\n",
       "        vertical-align: middle;\n",
       "    }\n",
       "\n",
       "    .dataframe tbody tr th {\n",
       "        vertical-align: top;\n",
       "    }\n",
       "\n",
       "    .dataframe thead th {\n",
       "        text-align: right;\n",
       "    }\n",
       "</style>\n",
       "<table border=\"1\" class=\"dataframe\">\n",
       "  <thead>\n",
       "    <tr style=\"text-align: right;\">\n",
       "      <th></th>\n",
       "      <th>n_estimators</th>\n",
       "      <th>test-logloss-mean</th>\n",
       "      <th>test-logloss-std</th>\n",
       "      <th>train-logloss-mean</th>\n",
       "      <th>train-logloss-std</th>\n",
       "    </tr>\n",
       "  </thead>\n",
       "  <tbody>\n",
       "    <tr>\n",
       "      <th>0</th>\n",
       "      <td>0</td>\n",
       "      <td>0.647647</td>\n",
       "      <td>0.000034</td>\n",
       "      <td>0.647636</td>\n",
       "      <td>0.000027</td>\n",
       "    </tr>\n",
       "    <tr>\n",
       "      <th>1</th>\n",
       "      <td>1</td>\n",
       "      <td>0.610477</td>\n",
       "      <td>0.000102</td>\n",
       "      <td>0.610462</td>\n",
       "      <td>0.000069</td>\n",
       "    </tr>\n",
       "    <tr>\n",
       "      <th>2</th>\n",
       "      <td>2</td>\n",
       "      <td>0.579849</td>\n",
       "      <td>0.000055</td>\n",
       "      <td>0.579827</td>\n",
       "      <td>0.000046</td>\n",
       "    </tr>\n",
       "    <tr>\n",
       "      <th>3</th>\n",
       "      <td>3</td>\n",
       "      <td>0.554354</td>\n",
       "      <td>0.000021</td>\n",
       "      <td>0.554317</td>\n",
       "      <td>0.000050</td>\n",
       "    </tr>\n",
       "    <tr>\n",
       "      <th>4</th>\n",
       "      <td>4</td>\n",
       "      <td>0.532983</td>\n",
       "      <td>0.000035</td>\n",
       "      <td>0.532939</td>\n",
       "      <td>0.000055</td>\n",
       "    </tr>\n",
       "    <tr>\n",
       "      <th>5</th>\n",
       "      <td>5</td>\n",
       "      <td>0.515018</td>\n",
       "      <td>0.000061</td>\n",
       "      <td>0.514965</td>\n",
       "      <td>0.000047</td>\n",
       "    </tr>\n",
       "    <tr>\n",
       "      <th>6</th>\n",
       "      <td>6</td>\n",
       "      <td>0.499775</td>\n",
       "      <td>0.000144</td>\n",
       "      <td>0.499718</td>\n",
       "      <td>0.000081</td>\n",
       "    </tr>\n",
       "    <tr>\n",
       "      <th>7</th>\n",
       "      <td>7</td>\n",
       "      <td>0.486852</td>\n",
       "      <td>0.000122</td>\n",
       "      <td>0.486787</td>\n",
       "      <td>0.000165</td>\n",
       "    </tr>\n",
       "    <tr>\n",
       "      <th>8</th>\n",
       "      <td>8</td>\n",
       "      <td>0.475911</td>\n",
       "      <td>0.000243</td>\n",
       "      <td>0.475835</td>\n",
       "      <td>0.000319</td>\n",
       "    </tr>\n",
       "    <tr>\n",
       "      <th>9</th>\n",
       "      <td>9</td>\n",
       "      <td>0.466637</td>\n",
       "      <td>0.000129</td>\n",
       "      <td>0.466549</td>\n",
       "      <td>0.000260</td>\n",
       "    </tr>\n",
       "    <tr>\n",
       "      <th>10</th>\n",
       "      <td>10</td>\n",
       "      <td>0.458822</td>\n",
       "      <td>0.000274</td>\n",
       "      <td>0.458721</td>\n",
       "      <td>0.000399</td>\n",
       "    </tr>\n",
       "    <tr>\n",
       "      <th>11</th>\n",
       "      <td>11</td>\n",
       "      <td>0.452114</td>\n",
       "      <td>0.000317</td>\n",
       "      <td>0.452006</td>\n",
       "      <td>0.000443</td>\n",
       "    </tr>\n",
       "    <tr>\n",
       "      <th>12</th>\n",
       "      <td>12</td>\n",
       "      <td>0.446351</td>\n",
       "      <td>0.000106</td>\n",
       "      <td>0.446233</td>\n",
       "      <td>0.000179</td>\n",
       "    </tr>\n",
       "    <tr>\n",
       "      <th>13</th>\n",
       "      <td>13</td>\n",
       "      <td>0.441347</td>\n",
       "      <td>0.000118</td>\n",
       "      <td>0.441217</td>\n",
       "      <td>0.000252</td>\n",
       "    </tr>\n",
       "    <tr>\n",
       "      <th>14</th>\n",
       "      <td>14</td>\n",
       "      <td>0.437078</td>\n",
       "      <td>0.000181</td>\n",
       "      <td>0.436939</td>\n",
       "      <td>0.000274</td>\n",
       "    </tr>\n",
       "    <tr>\n",
       "      <th>15</th>\n",
       "      <td>15</td>\n",
       "      <td>0.433434</td>\n",
       "      <td>0.000318</td>\n",
       "      <td>0.433284</td>\n",
       "      <td>0.000391</td>\n",
       "    </tr>\n",
       "    <tr>\n",
       "      <th>16</th>\n",
       "      <td>16</td>\n",
       "      <td>0.430318</td>\n",
       "      <td>0.000417</td>\n",
       "      <td>0.430158</td>\n",
       "      <td>0.000479</td>\n",
       "    </tr>\n",
       "    <tr>\n",
       "      <th>17</th>\n",
       "      <td>17</td>\n",
       "      <td>0.427790</td>\n",
       "      <td>0.000458</td>\n",
       "      <td>0.427617</td>\n",
       "      <td>0.000489</td>\n",
       "    </tr>\n",
       "    <tr>\n",
       "      <th>18</th>\n",
       "      <td>18</td>\n",
       "      <td>0.425449</td>\n",
       "      <td>0.000508</td>\n",
       "      <td>0.425263</td>\n",
       "      <td>0.000523</td>\n",
       "    </tr>\n",
       "    <tr>\n",
       "      <th>19</th>\n",
       "      <td>19</td>\n",
       "      <td>0.423340</td>\n",
       "      <td>0.000478</td>\n",
       "      <td>0.423144</td>\n",
       "      <td>0.000459</td>\n",
       "    </tr>\n",
       "    <tr>\n",
       "      <th>20</th>\n",
       "      <td>20</td>\n",
       "      <td>0.421601</td>\n",
       "      <td>0.000408</td>\n",
       "      <td>0.421397</td>\n",
       "      <td>0.000462</td>\n",
       "    </tr>\n",
       "    <tr>\n",
       "      <th>21</th>\n",
       "      <td>21</td>\n",
       "      <td>0.420099</td>\n",
       "      <td>0.000387</td>\n",
       "      <td>0.419887</td>\n",
       "      <td>0.000411</td>\n",
       "    </tr>\n",
       "    <tr>\n",
       "      <th>22</th>\n",
       "      <td>22</td>\n",
       "      <td>0.418744</td>\n",
       "      <td>0.000364</td>\n",
       "      <td>0.418524</td>\n",
       "      <td>0.000317</td>\n",
       "    </tr>\n",
       "    <tr>\n",
       "      <th>23</th>\n",
       "      <td>23</td>\n",
       "      <td>0.417447</td>\n",
       "      <td>0.000224</td>\n",
       "      <td>0.417215</td>\n",
       "      <td>0.000199</td>\n",
       "    </tr>\n",
       "    <tr>\n",
       "      <th>24</th>\n",
       "      <td>24</td>\n",
       "      <td>0.416322</td>\n",
       "      <td>0.000263</td>\n",
       "      <td>0.416078</td>\n",
       "      <td>0.000167</td>\n",
       "    </tr>\n",
       "    <tr>\n",
       "      <th>25</th>\n",
       "      <td>25</td>\n",
       "      <td>0.415450</td>\n",
       "      <td>0.000282</td>\n",
       "      <td>0.415196</td>\n",
       "      <td>0.000135</td>\n",
       "    </tr>\n",
       "    <tr>\n",
       "      <th>26</th>\n",
       "      <td>26</td>\n",
       "      <td>0.414637</td>\n",
       "      <td>0.000273</td>\n",
       "      <td>0.414372</td>\n",
       "      <td>0.000107</td>\n",
       "    </tr>\n",
       "    <tr>\n",
       "      <th>27</th>\n",
       "      <td>27</td>\n",
       "      <td>0.413944</td>\n",
       "      <td>0.000242</td>\n",
       "      <td>0.413669</td>\n",
       "      <td>0.000090</td>\n",
       "    </tr>\n",
       "    <tr>\n",
       "      <th>28</th>\n",
       "      <td>28</td>\n",
       "      <td>0.413377</td>\n",
       "      <td>0.000243</td>\n",
       "      <td>0.413093</td>\n",
       "      <td>0.000108</td>\n",
       "    </tr>\n",
       "    <tr>\n",
       "      <th>29</th>\n",
       "      <td>29</td>\n",
       "      <td>0.412745</td>\n",
       "      <td>0.000221</td>\n",
       "      <td>0.412449</td>\n",
       "      <td>0.000015</td>\n",
       "    </tr>\n",
       "    <tr>\n",
       "      <th>...</th>\n",
       "      <td>...</td>\n",
       "      <td>...</td>\n",
       "      <td>...</td>\n",
       "      <td>...</td>\n",
       "      <td>...</td>\n",
       "    </tr>\n",
       "    <tr>\n",
       "      <th>637</th>\n",
       "      <td>637</td>\n",
       "      <td>0.395571</td>\n",
       "      <td>0.000215</td>\n",
       "      <td>0.384926</td>\n",
       "      <td>0.000399</td>\n",
       "    </tr>\n",
       "    <tr>\n",
       "      <th>638</th>\n",
       "      <td>638</td>\n",
       "      <td>0.395570</td>\n",
       "      <td>0.000214</td>\n",
       "      <td>0.384906</td>\n",
       "      <td>0.000397</td>\n",
       "    </tr>\n",
       "    <tr>\n",
       "      <th>639</th>\n",
       "      <td>639</td>\n",
       "      <td>0.395572</td>\n",
       "      <td>0.000214</td>\n",
       "      <td>0.384889</td>\n",
       "      <td>0.000396</td>\n",
       "    </tr>\n",
       "    <tr>\n",
       "      <th>640</th>\n",
       "      <td>640</td>\n",
       "      <td>0.395572</td>\n",
       "      <td>0.000215</td>\n",
       "      <td>0.384874</td>\n",
       "      <td>0.000400</td>\n",
       "    </tr>\n",
       "    <tr>\n",
       "      <th>641</th>\n",
       "      <td>641</td>\n",
       "      <td>0.395569</td>\n",
       "      <td>0.000221</td>\n",
       "      <td>0.384854</td>\n",
       "      <td>0.000402</td>\n",
       "    </tr>\n",
       "    <tr>\n",
       "      <th>642</th>\n",
       "      <td>642</td>\n",
       "      <td>0.395567</td>\n",
       "      <td>0.000221</td>\n",
       "      <td>0.384833</td>\n",
       "      <td>0.000401</td>\n",
       "    </tr>\n",
       "    <tr>\n",
       "      <th>643</th>\n",
       "      <td>643</td>\n",
       "      <td>0.395566</td>\n",
       "      <td>0.000218</td>\n",
       "      <td>0.384812</td>\n",
       "      <td>0.000408</td>\n",
       "    </tr>\n",
       "    <tr>\n",
       "      <th>644</th>\n",
       "      <td>644</td>\n",
       "      <td>0.395567</td>\n",
       "      <td>0.000219</td>\n",
       "      <td>0.384794</td>\n",
       "      <td>0.000409</td>\n",
       "    </tr>\n",
       "    <tr>\n",
       "      <th>645</th>\n",
       "      <td>645</td>\n",
       "      <td>0.395568</td>\n",
       "      <td>0.000220</td>\n",
       "      <td>0.384774</td>\n",
       "      <td>0.000407</td>\n",
       "    </tr>\n",
       "    <tr>\n",
       "      <th>646</th>\n",
       "      <td>646</td>\n",
       "      <td>0.395561</td>\n",
       "      <td>0.000217</td>\n",
       "      <td>0.384753</td>\n",
       "      <td>0.000407</td>\n",
       "    </tr>\n",
       "    <tr>\n",
       "      <th>647</th>\n",
       "      <td>647</td>\n",
       "      <td>0.395563</td>\n",
       "      <td>0.000218</td>\n",
       "      <td>0.384733</td>\n",
       "      <td>0.000409</td>\n",
       "    </tr>\n",
       "    <tr>\n",
       "      <th>648</th>\n",
       "      <td>648</td>\n",
       "      <td>0.395564</td>\n",
       "      <td>0.000218</td>\n",
       "      <td>0.384720</td>\n",
       "      <td>0.000415</td>\n",
       "    </tr>\n",
       "    <tr>\n",
       "      <th>649</th>\n",
       "      <td>649</td>\n",
       "      <td>0.395566</td>\n",
       "      <td>0.000219</td>\n",
       "      <td>0.384705</td>\n",
       "      <td>0.000419</td>\n",
       "    </tr>\n",
       "    <tr>\n",
       "      <th>650</th>\n",
       "      <td>650</td>\n",
       "      <td>0.395566</td>\n",
       "      <td>0.000218</td>\n",
       "      <td>0.384689</td>\n",
       "      <td>0.000410</td>\n",
       "    </tr>\n",
       "    <tr>\n",
       "      <th>651</th>\n",
       "      <td>651</td>\n",
       "      <td>0.395562</td>\n",
       "      <td>0.000218</td>\n",
       "      <td>0.384668</td>\n",
       "      <td>0.000410</td>\n",
       "    </tr>\n",
       "    <tr>\n",
       "      <th>652</th>\n",
       "      <td>652</td>\n",
       "      <td>0.395563</td>\n",
       "      <td>0.000219</td>\n",
       "      <td>0.384653</td>\n",
       "      <td>0.000415</td>\n",
       "    </tr>\n",
       "    <tr>\n",
       "      <th>653</th>\n",
       "      <td>653</td>\n",
       "      <td>0.395561</td>\n",
       "      <td>0.000219</td>\n",
       "      <td>0.384630</td>\n",
       "      <td>0.000414</td>\n",
       "    </tr>\n",
       "    <tr>\n",
       "      <th>654</th>\n",
       "      <td>654</td>\n",
       "      <td>0.395559</td>\n",
       "      <td>0.000216</td>\n",
       "      <td>0.384615</td>\n",
       "      <td>0.000423</td>\n",
       "    </tr>\n",
       "    <tr>\n",
       "      <th>655</th>\n",
       "      <td>655</td>\n",
       "      <td>0.395557</td>\n",
       "      <td>0.000215</td>\n",
       "      <td>0.384595</td>\n",
       "      <td>0.000426</td>\n",
       "    </tr>\n",
       "    <tr>\n",
       "      <th>656</th>\n",
       "      <td>656</td>\n",
       "      <td>0.395555</td>\n",
       "      <td>0.000214</td>\n",
       "      <td>0.384575</td>\n",
       "      <td>0.000425</td>\n",
       "    </tr>\n",
       "    <tr>\n",
       "      <th>657</th>\n",
       "      <td>657</td>\n",
       "      <td>0.395552</td>\n",
       "      <td>0.000212</td>\n",
       "      <td>0.384560</td>\n",
       "      <td>0.000432</td>\n",
       "    </tr>\n",
       "    <tr>\n",
       "      <th>658</th>\n",
       "      <td>658</td>\n",
       "      <td>0.395550</td>\n",
       "      <td>0.000210</td>\n",
       "      <td>0.384533</td>\n",
       "      <td>0.000432</td>\n",
       "    </tr>\n",
       "    <tr>\n",
       "      <th>659</th>\n",
       "      <td>659</td>\n",
       "      <td>0.395551</td>\n",
       "      <td>0.000211</td>\n",
       "      <td>0.384518</td>\n",
       "      <td>0.000439</td>\n",
       "    </tr>\n",
       "    <tr>\n",
       "      <th>660</th>\n",
       "      <td>660</td>\n",
       "      <td>0.395553</td>\n",
       "      <td>0.000213</td>\n",
       "      <td>0.384505</td>\n",
       "      <td>0.000446</td>\n",
       "    </tr>\n",
       "    <tr>\n",
       "      <th>661</th>\n",
       "      <td>661</td>\n",
       "      <td>0.395547</td>\n",
       "      <td>0.000213</td>\n",
       "      <td>0.384480</td>\n",
       "      <td>0.000442</td>\n",
       "    </tr>\n",
       "    <tr>\n",
       "      <th>662</th>\n",
       "      <td>662</td>\n",
       "      <td>0.395547</td>\n",
       "      <td>0.000215</td>\n",
       "      <td>0.384459</td>\n",
       "      <td>0.000445</td>\n",
       "    </tr>\n",
       "    <tr>\n",
       "      <th>663</th>\n",
       "      <td>663</td>\n",
       "      <td>0.395547</td>\n",
       "      <td>0.000215</td>\n",
       "      <td>0.384444</td>\n",
       "      <td>0.000445</td>\n",
       "    </tr>\n",
       "    <tr>\n",
       "      <th>664</th>\n",
       "      <td>664</td>\n",
       "      <td>0.395547</td>\n",
       "      <td>0.000213</td>\n",
       "      <td>0.384424</td>\n",
       "      <td>0.000450</td>\n",
       "    </tr>\n",
       "    <tr>\n",
       "      <th>665</th>\n",
       "      <td>665</td>\n",
       "      <td>0.395534</td>\n",
       "      <td>0.000200</td>\n",
       "      <td>0.384396</td>\n",
       "      <td>0.000464</td>\n",
       "    </tr>\n",
       "    <tr>\n",
       "      <th>666</th>\n",
       "      <td>666</td>\n",
       "      <td>0.395532</td>\n",
       "      <td>0.000199</td>\n",
       "      <td>0.384374</td>\n",
       "      <td>0.000464</td>\n",
       "    </tr>\n",
       "  </tbody>\n",
       "</table>\n",
       "<p>667 rows × 5 columns</p>\n",
       "</div>"
      ],
      "text/plain": [
       "     n_estimators  test-logloss-mean  test-logloss-std  train-logloss-mean  \\\n",
       "0               0           0.647647          0.000034            0.647636   \n",
       "1               1           0.610477          0.000102            0.610462   \n",
       "2               2           0.579849          0.000055            0.579827   \n",
       "3               3           0.554354          0.000021            0.554317   \n",
       "4               4           0.532983          0.000035            0.532939   \n",
       "5               5           0.515018          0.000061            0.514965   \n",
       "6               6           0.499775          0.000144            0.499718   \n",
       "7               7           0.486852          0.000122            0.486787   \n",
       "8               8           0.475911          0.000243            0.475835   \n",
       "9               9           0.466637          0.000129            0.466549   \n",
       "10             10           0.458822          0.000274            0.458721   \n",
       "11             11           0.452114          0.000317            0.452006   \n",
       "12             12           0.446351          0.000106            0.446233   \n",
       "13             13           0.441347          0.000118            0.441217   \n",
       "14             14           0.437078          0.000181            0.436939   \n",
       "15             15           0.433434          0.000318            0.433284   \n",
       "16             16           0.430318          0.000417            0.430158   \n",
       "17             17           0.427790          0.000458            0.427617   \n",
       "18             18           0.425449          0.000508            0.425263   \n",
       "19             19           0.423340          0.000478            0.423144   \n",
       "20             20           0.421601          0.000408            0.421397   \n",
       "21             21           0.420099          0.000387            0.419887   \n",
       "22             22           0.418744          0.000364            0.418524   \n",
       "23             23           0.417447          0.000224            0.417215   \n",
       "24             24           0.416322          0.000263            0.416078   \n",
       "25             25           0.415450          0.000282            0.415196   \n",
       "26             26           0.414637          0.000273            0.414372   \n",
       "27             27           0.413944          0.000242            0.413669   \n",
       "28             28           0.413377          0.000243            0.413093   \n",
       "29             29           0.412745          0.000221            0.412449   \n",
       "..            ...                ...               ...                 ...   \n",
       "637           637           0.395571          0.000215            0.384926   \n",
       "638           638           0.395570          0.000214            0.384906   \n",
       "639           639           0.395572          0.000214            0.384889   \n",
       "640           640           0.395572          0.000215            0.384874   \n",
       "641           641           0.395569          0.000221            0.384854   \n",
       "642           642           0.395567          0.000221            0.384833   \n",
       "643           643           0.395566          0.000218            0.384812   \n",
       "644           644           0.395567          0.000219            0.384794   \n",
       "645           645           0.395568          0.000220            0.384774   \n",
       "646           646           0.395561          0.000217            0.384753   \n",
       "647           647           0.395563          0.000218            0.384733   \n",
       "648           648           0.395564          0.000218            0.384720   \n",
       "649           649           0.395566          0.000219            0.384705   \n",
       "650           650           0.395566          0.000218            0.384689   \n",
       "651           651           0.395562          0.000218            0.384668   \n",
       "652           652           0.395563          0.000219            0.384653   \n",
       "653           653           0.395561          0.000219            0.384630   \n",
       "654           654           0.395559          0.000216            0.384615   \n",
       "655           655           0.395557          0.000215            0.384595   \n",
       "656           656           0.395555          0.000214            0.384575   \n",
       "657           657           0.395552          0.000212            0.384560   \n",
       "658           658           0.395550          0.000210            0.384533   \n",
       "659           659           0.395551          0.000211            0.384518   \n",
       "660           660           0.395553          0.000213            0.384505   \n",
       "661           661           0.395547          0.000213            0.384480   \n",
       "662           662           0.395547          0.000215            0.384459   \n",
       "663           663           0.395547          0.000215            0.384444   \n",
       "664           664           0.395547          0.000213            0.384424   \n",
       "665           665           0.395534          0.000200            0.384396   \n",
       "666           666           0.395532          0.000199            0.384374   \n",
       "\n",
       "     train-logloss-std  \n",
       "0             0.000027  \n",
       "1             0.000069  \n",
       "2             0.000046  \n",
       "3             0.000050  \n",
       "4             0.000055  \n",
       "5             0.000047  \n",
       "6             0.000081  \n",
       "7             0.000165  \n",
       "8             0.000319  \n",
       "9             0.000260  \n",
       "10            0.000399  \n",
       "11            0.000443  \n",
       "12            0.000179  \n",
       "13            0.000252  \n",
       "14            0.000274  \n",
       "15            0.000391  \n",
       "16            0.000479  \n",
       "17            0.000489  \n",
       "18            0.000523  \n",
       "19            0.000459  \n",
       "20            0.000462  \n",
       "21            0.000411  \n",
       "22            0.000317  \n",
       "23            0.000199  \n",
       "24            0.000167  \n",
       "25            0.000135  \n",
       "26            0.000107  \n",
       "27            0.000090  \n",
       "28            0.000108  \n",
       "29            0.000015  \n",
       "..                 ...  \n",
       "637           0.000399  \n",
       "638           0.000397  \n",
       "639           0.000396  \n",
       "640           0.000400  \n",
       "641           0.000402  \n",
       "642           0.000401  \n",
       "643           0.000408  \n",
       "644           0.000409  \n",
       "645           0.000407  \n",
       "646           0.000407  \n",
       "647           0.000409  \n",
       "648           0.000415  \n",
       "649           0.000419  \n",
       "650           0.000410  \n",
       "651           0.000410  \n",
       "652           0.000415  \n",
       "653           0.000414  \n",
       "654           0.000423  \n",
       "655           0.000426  \n",
       "656           0.000425  \n",
       "657           0.000432  \n",
       "658           0.000432  \n",
       "659           0.000439  \n",
       "660           0.000446  \n",
       "661           0.000442  \n",
       "662           0.000445  \n",
       "663           0.000445  \n",
       "664           0.000450  \n",
       "665           0.000464  \n",
       "666           0.000464  \n",
       "\n",
       "[667 rows x 5 columns]"
      ]
     },
     "execution_count": 6,
     "metadata": {},
     "output_type": "execute_result"
    }
   ],
   "source": [
    "tree=pd.read_csv('/data/'+'n_estimators.csv')\n",
    "tree."
   ]
  },
  {
   "cell_type": "code",
   "execution_count": 3,
   "metadata": {},
   "outputs": [
    {
     "data": {
      "text/plain": [
       "100"
      ]
     },
     "execution_count": 3,
     "metadata": {},
     "output_type": "execute_result"
    }
   ],
   "source": [
    "round(100.000056)"
   ]
  },
  {
   "cell_type": "code",
   "execution_count": 7,
   "metadata": {
    "scrolled": true
   },
   "outputs": [
    {
     "ename": "AttributeError",
     "evalue": "'Namespace' object has no attribute 'src_train_path'",
     "output_type": "error",
     "traceback": [
      "\u001b[1;31m---------------------------------------------------------------------------\u001b[0m",
      "\u001b[1;31mAttributeError\u001b[0m                            Traceback (most recent call last)",
      "\u001b[1;32m<ipython-input-7-0a889212abd3>\u001b[0m in \u001b[0;36m<module>\u001b[1;34m()\u001b[0m\n\u001b[0;32m     14\u001b[0m \"\"\"\n\u001b[0;32m     15\u001b[0m \u001b[1;31m#读取数据\u001b[0m\u001b[1;33m\u001b[0m\u001b[1;33m\u001b[0m\u001b[0m\n\u001b[1;32m---> 16\u001b[1;33m \u001b[0mtrain\u001b[0m \u001b[1;33m=\u001b[0m \u001b[0mpd\u001b[0m\u001b[1;33m.\u001b[0m\u001b[0mread_csv\u001b[0m\u001b[1;33m(\u001b[0m\u001b[0mFLAGS\u001b[0m\u001b[1;33m.\u001b[0m\u001b[0msrc_train_path\u001b[0m\u001b[1;33m,\u001b[0m\u001b[0mnrows\u001b[0m \u001b[1;33m=\u001b[0m\u001b[1;36m500\u001b[0m\u001b[1;33m)\u001b[0m\u001b[1;33m\u001b[0m\u001b[0m\n\u001b[0m",
      "\u001b[1;31mAttributeError\u001b[0m: 'Namespace' object has no attribute 'src_train_path'"
     ]
    }
   ],
   "source": [
    " \"\"\"\n",
    "• id: ad identifier （广告 ID）\n",
    "• click: 0/1 for non-click/click （是否被点击，其中 0 为不被点击，1 为不被点击，此列为目\n",
    "标变量）\n",
    "• hour: format is YYMMDDHH, so 14091123 means 23:00 on Sept. 11, 2014 UTC. （时间）\n",
    "• C1 -- anonymized categorical variable （类别型变量）\n",
    "• banner_pos （广告位置）\n",
    "• site_id （站点 ID）\n",
    "• site_domain （站点领域）\n",
    "• site_category （站点类别）\n",
    "• app_id （APP ID）\n",
    "• app_domai\n",
    "• C14-C21 -- anonymized categorical variables （类别型变量）\n",
    " \"\"\"\n",
    "#读取数据\n",
    "train = pd.read_csv(FLAGS.src_train_path,nrows =500)"
   ]
  },
  {
   "cell_type": "code",
   "execution_count": 4,
   "metadata": {},
   "outputs": [
    {
     "data": {
      "text/plain": [
       "(500, 24)"
      ]
     },
     "execution_count": 4,
     "metadata": {},
     "output_type": "execute_result"
    }
   ],
   "source": [
    "train.shape"
   ]
  },
  {
   "cell_type": "code",
   "execution_count": 5,
   "metadata": {},
   "outputs": [
    {
     "data": {
      "text/plain": [
       "(500, 48)"
      ]
     },
     "execution_count": 5,
     "metadata": {},
     "output_type": "execute_result"
    }
   ],
   "source": [
    "pd.concat([train,train],axis = 1).shape"
   ]
  },
  {
   "cell_type": "code",
   "execution_count": 6,
   "metadata": {},
   "outputs": [
    {
     "data": {
      "text/plain": [
       "0      a9\n",
       "1      a9\n",
       "2      a9\n",
       "3      a9\n",
       "4      a9\n",
       "5      a9\n",
       "6      a9\n",
       "7      a9\n",
       "8      a9\n",
       "9      c3\n",
       "10     a9\n",
       "11     a9\n",
       "12     a9\n",
       "13     a9\n",
       "14     a9\n",
       "15     a9\n",
       "16     a9\n",
       "17     a9\n",
       "18     a9\n",
       "19     a9\n",
       "20     a9\n",
       "21     a9\n",
       "22     a9\n",
       "23     a9\n",
       "24     a9\n",
       "25     fb\n",
       "26     a9\n",
       "27     9a\n",
       "28     a9\n",
       "29     a9\n",
       "       ..\n",
       "470    a9\n",
       "471    3c\n",
       "472    a9\n",
       "473    a9\n",
       "474    a9\n",
       "475    a9\n",
       "476    a9\n",
       "477    a9\n",
       "478    a9\n",
       "479    a9\n",
       "480    a9\n",
       "481    c3\n",
       "482    a9\n",
       "483    a9\n",
       "484    a9\n",
       "485    a9\n",
       "486    a9\n",
       "487    a9\n",
       "488    a9\n",
       "489    a9\n",
       "490    a9\n",
       "491    a9\n",
       "492    a9\n",
       "493    a9\n",
       "494    a9\n",
       "495    a9\n",
       "496    a9\n",
       "497    a9\n",
       "498    a9\n",
       "499    a9\n",
       "Name: device_id, Length: 500, dtype: object"
      ]
     },
     "execution_count": 6,
     "metadata": {},
     "output_type": "execute_result"
    }
   ],
   "source": [
    "train['device_id'].apply(lambda x: x[:2])"
   ]
  },
  {
   "cell_type": "code",
   "execution_count": 7,
   "metadata": {
    "scrolled": true
   },
   "outputs": [
    {
     "name": "stdout",
     "output_type": "stream",
     "text": [
      "<class 'pandas.core.frame.DataFrame'>\n",
      "RangeIndex: 500 entries, 0 to 499\n",
      "Data columns (total 24 columns):\n",
      "id                  500 non-null uint64\n",
      "click               500 non-null int64\n",
      "hour                500 non-null int64\n",
      "C1                  500 non-null int64\n",
      "banner_pos          500 non-null int64\n",
      "site_id             500 non-null object\n",
      "site_domain         500 non-null object\n",
      "site_category       500 non-null object\n",
      "app_id              500 non-null object\n",
      "app_domain          500 non-null object\n",
      "app_category        500 non-null object\n",
      "device_id           500 non-null object\n",
      "device_ip           500 non-null object\n",
      "device_model        500 non-null object\n",
      "device_type         500 non-null int64\n",
      "device_conn_type    500 non-null int64\n",
      "C14                 500 non-null int64\n",
      "C15                 500 non-null int64\n",
      "C16                 500 non-null int64\n",
      "C17                 500 non-null int64\n",
      "C18                 500 non-null int64\n",
      "C19                 500 non-null int64\n",
      "C20                 500 non-null int64\n",
      "C21                 500 non-null int64\n",
      "dtypes: int64(14), object(9), uint64(1)\n",
      "memory usage: 93.8+ KB\n"
     ]
    }
   ],
   "source": [
    "train.info()"
   ]
  },
  {
   "cell_type": "code",
   "execution_count": 8,
   "metadata": {},
   "outputs": [
    {
     "data": {
      "text/plain": [
       "True"
      ]
     },
     "execution_count": 8,
     "metadata": {},
     "output_type": "execute_result"
    }
   ],
   "source": [
    "train['site_id'].dtypes=='object'"
   ]
  },
  {
   "cell_type": "code",
   "execution_count": 9,
   "metadata": {
    "scrolled": true
   },
   "outputs": [
    {
     "data": {
      "text/plain": [
       "{'017c59a6': -1,\n",
       " '03cb167d': -1,\n",
       " '0c3bbac0': -1,\n",
       " '0cc497c8': -1,\n",
       " '0f4a50fd': -1,\n",
       " '175e2558': -1,\n",
       " '1ab3feec': -1,\n",
       " '1c6dc527': -1,\n",
       " '1d5b4c5e': -1,\n",
       " '266f36a6': -1,\n",
       " '2a5eebfd': -1,\n",
       " '2ad16ba3': -1,\n",
       " '2c01b6dc': -1,\n",
       " '2c5594e1': -1,\n",
       " '30f17f5f': -1,\n",
       " '31f9b704': -1,\n",
       " '336ed370': -1,\n",
       " '3aa38dfe': -1,\n",
       " '3b4d9b97': -1,\n",
       " '3c0208dc': -1,\n",
       " '432cd280': -1,\n",
       " '4b2309e9': -1,\n",
       " '556a65e5': -1,\n",
       " '598b6ac9': -1,\n",
       " '665bffed': -1,\n",
       " '6a943594': -1,\n",
       " '6b17789a': -1,\n",
       " '71c467d1': -1,\n",
       " '767a174e': -1,\n",
       " '7d98887a': -1,\n",
       " '7f4b1f1e': -1,\n",
       " '8205da6e': -1,\n",
       " '890abcbb': -1,\n",
       " '8a869341': -1,\n",
       " '936e92fb': -1,\n",
       " '971d35f0': -1,\n",
       " '9906e40c': -1,\n",
       " '9af87478': -1,\n",
       " 'a167aa83': -1,\n",
       " 'a2cbb1e0': -1,\n",
       " 'a3d873bc': -1,\n",
       " 'a6060f2f': -1,\n",
       " 'a7420ec6': -1,\n",
       " 'a99f214a': 436,\n",
       " 'ac49f12d': -1,\n",
       " 'b36096d3': -1,\n",
       " 'b45aada4': -1,\n",
       " 'bc47be9e': -1,\n",
       " 'bd544220': -1,\n",
       " 'bd7c02a1': -1,\n",
       " 'c34f8cb7': -1,\n",
       " 'c357dbff': -1,\n",
       " 'cb1fc8bd': -1,\n",
       " 'cb73ba55': -1,\n",
       " 'd2bbb640': -1,\n",
       " 'd4a4f036': -1,\n",
       " 'dacad7fd': -1,\n",
       " 'df373817': -1,\n",
       " 'e62f1261': -1,\n",
       " 'ebde79d7': -1,\n",
       " 'f289c0ef': -1,\n",
       " 'fb23c543': -1,\n",
       " 'fc51ca94': -1}"
      ]
     },
     "execution_count": 9,
     "metadata": {},
     "output_type": "execute_result"
    }
   ],
   "source": [
    "dict((key,-1) if value <10 else (key,value)  for key,value in dict(train['device_id'].value_counts()).items())"
   ]
  },
  {
   "cell_type": "markdown",
   "metadata": {},
   "source": [
    "train = pd.read_csv(\"D:/GitHub/data/avazu_data/train.csv\",usecols=[2],nrows =50)"
   ]
  },
  {
   "cell_type": "code",
   "execution_count": 10,
   "metadata": {},
   "outputs": [
    {
     "name": "stdout",
     "output_type": "stream",
     "text": [
      "<class 'pandas.core.frame.DataFrame'>\n",
      "RangeIndex: 500 entries, 0 to 499\n",
      "Data columns (total 24 columns):\n",
      "id                  500 non-null uint64\n",
      "click               500 non-null int64\n",
      "hour                500 non-null int64\n",
      "C1                  500 non-null int64\n",
      "banner_pos          500 non-null int64\n",
      "site_id             500 non-null object\n",
      "site_domain         500 non-null object\n",
      "site_category       500 non-null object\n",
      "app_id              500 non-null object\n",
      "app_domain          500 non-null object\n",
      "app_category        500 non-null object\n",
      "device_id           500 non-null object\n",
      "device_ip           500 non-null object\n",
      "device_model        500 non-null object\n",
      "device_type         500 non-null int64\n",
      "device_conn_type    500 non-null int64\n",
      "C14                 500 non-null int64\n",
      "C15                 500 non-null int64\n",
      "C16                 500 non-null int64\n",
      "C17                 500 non-null int64\n",
      "C18                 500 non-null int64\n",
      "C19                 500 non-null int64\n",
      "C20                 500 non-null int64\n",
      "C21                 500 non-null int64\n",
      "dtypes: int64(14), object(9), uint64(1)\n",
      "memory usage: 93.8+ KB\n"
     ]
    }
   ],
   "source": [
    "train.info()"
   ]
  },
  {
   "cell_type": "code",
   "execution_count": 11,
   "metadata": {
    "scrolled": true
   },
   "outputs": [
    {
     "data": {
      "text/html": [
       "<div>\n",
       "<style scoped>\n",
       "    .dataframe tbody tr th:only-of-type {\n",
       "        vertical-align: middle;\n",
       "    }\n",
       "\n",
       "    .dataframe tbody tr th {\n",
       "        vertical-align: top;\n",
       "    }\n",
       "\n",
       "    .dataframe thead th {\n",
       "        text-align: right;\n",
       "    }\n",
       "</style>\n",
       "<table border=\"1\" class=\"dataframe\">\n",
       "  <thead>\n",
       "    <tr style=\"text-align: right;\">\n",
       "      <th></th>\n",
       "      <th>id</th>\n",
       "      <th>click</th>\n",
       "      <th>hour</th>\n",
       "      <th>C1</th>\n",
       "      <th>banner_pos</th>\n",
       "      <th>site_id</th>\n",
       "      <th>site_domain</th>\n",
       "      <th>site_category</th>\n",
       "      <th>app_id</th>\n",
       "      <th>app_domain</th>\n",
       "      <th>...</th>\n",
       "      <th>C19</th>\n",
       "      <th>C20</th>\n",
       "      <th>C21</th>\n",
       "      <th>date</th>\n",
       "      <th>one_day</th>\n",
       "      <th>one_day_hour</th>\n",
       "      <th>week_day</th>\n",
       "      <th>day_hour_prev</th>\n",
       "      <th>day_hour_next</th>\n",
       "      <th>is_work_day</th>\n",
       "    </tr>\n",
       "  </thead>\n",
       "  <tbody>\n",
       "  </tbody>\n",
       "</table>\n",
       "<p>0 rows × 31 columns</p>\n",
       "</div>"
      ],
      "text/plain": [
       "Empty DataFrame\n",
       "Columns: [id, click, hour, C1, banner_pos, site_id, site_domain, site_category, app_id, app_domain, app_category, device_id, device_ip, device_model, device_type, device_conn_type, C14, C15, C16, C17, C18, C19, C20, C21, date, one_day, one_day_hour, week_day, day_hour_prev, day_hour_next, is_work_day]\n",
       "Index: []\n",
       "\n",
       "[0 rows x 31 columns]"
      ]
     },
     "execution_count": 11,
     "metadata": {},
     "output_type": "execute_result"
    }
   ],
   "source": [
    "\n",
    "train['date']=pd.to_datetime((train['hour'] / 100).map(int)+20000000)\n",
    "        \n",
    "train['one_day']=train['date'].dt.day\n",
    "train['one_day_hour'] = train['date'].dt.hour\n",
    "train['week_day'] = train['date'].dt.dayofweek\n",
    "train['day_hour_prev'] = train['one_day_hour'] - 1\n",
    "train['day_hour_next'] = train['one_day_hour'] + 1\n",
    "train['is_work_day'] = train['week_day'].apply(lambda x: 1 if x in [0,1,2,3,4] else 0)\n",
    "train[train['is_work_day']==0]"
   ]
  },
  {
   "cell_type": "code",
   "execution_count": 12,
   "metadata": {},
   "outputs": [
    {
     "name": "stdout",
     "output_type": "stream",
     "text": [
      "<class 'pandas.core.frame.DataFrame'>\n",
      "RangeIndex: 500 entries, 0 to 499\n",
      "Data columns (total 31 columns):\n",
      "id                  500 non-null uint64\n",
      "click               500 non-null int64\n",
      "hour                500 non-null int64\n",
      "C1                  500 non-null int64\n",
      "banner_pos          500 non-null int64\n",
      "site_id             500 non-null object\n",
      "site_domain         500 non-null object\n",
      "site_category       500 non-null object\n",
      "app_id              500 non-null object\n",
      "app_domain          500 non-null object\n",
      "app_category        500 non-null object\n",
      "device_id           500 non-null object\n",
      "device_ip           500 non-null object\n",
      "device_model        500 non-null object\n",
      "device_type         500 non-null int64\n",
      "device_conn_type    500 non-null int64\n",
      "C14                 500 non-null int64\n",
      "C15                 500 non-null int64\n",
      "C16                 500 non-null int64\n",
      "C17                 500 non-null int64\n",
      "C18                 500 non-null int64\n",
      "C19                 500 non-null int64\n",
      "C20                 500 non-null int64\n",
      "C21                 500 non-null int64\n",
      "date                500 non-null datetime64[ns]\n",
      "one_day             500 non-null int64\n",
      "one_day_hour        500 non-null int64\n",
      "week_day            500 non-null int64\n",
      "day_hour_prev       500 non-null int64\n",
      "day_hour_next       500 non-null int64\n",
      "is_work_day         500 non-null int64\n",
      "dtypes: datetime64[ns](1), int64(20), object(9), uint64(1)\n",
      "memory usage: 121.2+ KB\n"
     ]
    }
   ],
   "source": [
    "train.info()"
   ]
  },
  {
   "cell_type": "code",
   "execution_count": 13,
   "metadata": {},
   "outputs": [
    {
     "name": "stdout",
     "output_type": "stream",
     "text": [
      "['id' 'click' 'hour' 'C1' 'banner_pos' 'site_id' 'site_domain'\n",
      " 'site_category' 'app_id' 'app_domain' 'app_category' 'device_id'\n",
      " 'device_ip' 'device_model' 'device_type' 'device_conn_type' 'C14' 'C15'\n",
      " 'C16' 'C17' 'C18' 'C19' 'C20' 'C21' 'date' 'one_day' 'one_day_hour'\n",
      " 'week_day' 'day_hour_prev' 'day_hour_next' 'is_work_day']\n"
     ]
    }
   ],
   "source": [
    "print (train.columns.values)\n",
    "min_col=['id', 'click', 'hour', 'C1', 'banner_pos', 'site_id',\n",
    "       'site_domain', 'site_category', 'app_id', 'app_domain',\n",
    "       'app_category', 'device_id', 'device_ip', 'device_model',\n",
    "       'device_type', 'device_conn_type']"
   ]
  },
  {
   "cell_type": "markdown",
   "metadata": {
    "collapsed": true
   },
   "source": [
    "for col in min_col:\n",
    "    rets=col_anly(col)\n",
    "    col_plt(rets,col,plt)"
   ]
  },
  {
   "cell_type": "code",
   "execution_count": 14,
   "metadata": {},
   "outputs": [
    {
     "data": {
      "image/png": "[encoded data removed]",
      "text/plain": [
       "<matplotlib.figure.Figure at 0x7f4da174f3c8>"
      ]
     },
     "metadata": {},
     "output_type": "display_data"
    }
   ],
   "source": [
    "sns_factorplot(train_one=train,col_name='week_day',kind='count',plt=plt,sns=sns)"
   ]
  },
  {
   "cell_type": "code",
   "execution_count": 19,
   "metadata": {
    "collapsed": true
   },
   "outputs": [],
   "source": [
    "a=pd.read_csv('/home/zhijiehuang/github/data/test.csv')"
   ]
  },
  {
   "cell_type": "code",
   "execution_count": 21,
   "metadata": {},
   "outputs": [
    {
     "data": {
      "text/plain": [
       "(4577464, 23)"
      ]
     },
     "execution_count": 21,
     "metadata": {},
     "output_type": "execute_result"
    }
   ],
   "source": [
    "a.shape"
   ]
  },
  {
   "cell_type": "code",
   "execution_count": 18,
   "metadata": {},
   "outputs": [
    {
     "data": {
      "text/plain": [
       "array([0, 1])"
      ]
     },
     "execution_count": 18,
     "metadata": {},
     "output_type": "execute_result"
    }
   ],
   "source": [
    "a['click'].unique()"
   ]
  },
  {
   "cell_type": "code",
   "execution_count": 16,
   "metadata": {
    "collapsed": true
   },
   "outputs": [],
   "source": [
    "a.drop('Unnamed: 0',axis=1,inplace = True)"
   ]
  },
  {
   "cell_type": "code",
   "execution_count": 28,
   "metadata": {},
   "outputs": [
    {
     "data": {
      "text/html": [
       "<div>\n",
       "<style scoped>\n",
       "    .dataframe tbody tr th:only-of-type {\n",
       "        vertical-align: middle;\n",
       "    }\n",
       "\n",
       "    .dataframe tbody tr th {\n",
       "        vertical-align: top;\n",
       "    }\n",
       "\n",
       "    .dataframe thead th {\n",
       "        text-align: right;\n",
       "    }\n",
       "</style>\n",
       "<table border=\"1\" class=\"dataframe\">\n",
       "  <thead>\n",
       "    <tr style=\"text-align: right;\">\n",
       "      <th></th>\n",
       "      <th>click</th>\n",
       "    </tr>\n",
       "  </thead>\n",
       "  <tbody>\n",
       "    <tr>\n",
       "      <th>0</th>\n",
       "      <td>0</td>\n",
       "    </tr>\n",
       "    <tr>\n",
       "      <th>1</th>\n",
       "      <td>0</td>\n",
       "    </tr>\n",
       "    <tr>\n",
       "      <th>2</th>\n",
       "      <td>0</td>\n",
       "    </tr>\n",
       "    <tr>\n",
       "      <th>3</th>\n",
       "      <td>0</td>\n",
       "    </tr>\n",
       "    <tr>\n",
       "      <th>4</th>\n",
       "      <td>0</td>\n",
       "    </tr>\n",
       "  </tbody>\n",
       "</table>\n",
       "</div>"
      ],
      "text/plain": [
       "   click\n",
       "0      0\n",
       "1      0\n",
       "2      0\n",
       "3      0\n",
       "4      0"
      ]
     },
     "execution_count": 28,
     "metadata": {},
     "output_type": "execute_result"
    }
   ],
   "source": [
    "a.head()"
   ]
  },
  {
   "cell_type": "code",
   "execution_count": null,
   "metadata": {
    "collapsed": true
   },
   "outputs": [],
   "source": [
    "a.un"
   ]
  },
  {
   "cell_type": "code",
   "execution_count": 19,
   "metadata": {},
   "outputs": [
    {
     "data": {
      "text/plain": [
       "[1]"
      ]
     },
     "execution_count": 19,
     "metadata": {},
     "output_type": "execute_result"
    }
   ],
   "source": [
    "a=[1,2,3]\n",
    "b=[2,3,4]\n",
    "list(set(a).difference(set(b)))"
   ]
  },
  {
   "cell_type": "code",
   "execution_count": 20,
   "metadata": {
    "collapsed": true
   },
   "outputs": [],
   "source": [
    "test = pd.read_csv(FLAGS.src_test_path)"
   ]
  },
  {
   "cell_type": "code",
   "execution_count": 22,
   "metadata": {},
   "outputs": [
    {
     "data": {
      "text/plain": [
       "(4577464, 23)"
      ]
     },
     "execution_count": 22,
     "metadata": {},
     "output_type": "execute_result"
    }
   ],
   "source": [
    "test.shape"
   ]
  },
  {
   "cell_type": "code",
   "execution_count": 23,
   "metadata": {},
   "outputs": [
    {
     "data": {
      "text/plain": [
       "40428967"
      ]
     },
     "execution_count": 23,
     "metadata": {},
     "output_type": "execute_result"
    }
   ],
   "source": [
    "45006431-4577464"
   ]
  },
  {
   "cell_type": "code",
   "execution_count": null,
   "metadata": {
    "collapsed": true
   },
   "outputs": [],
   "source": [
    "\n"
   ]
  }
 ],
 "metadata": {
  "kernelspec": {
   "display_name": "Python 3",
   "language": "python",
   "name": "python3"
  },
  "language_info": {
   "codemirror_mode": {
    "name": "ipython",
    "version": 3
   },
   "file_extension": ".py",
   "mimetype": "text/x-python",
   "name": "python",
   "nbconvert_exporter": "python",
   "pygments_lexer": "ipython3",
   "version": "3.6.3"
  }
 },
 "nbformat": 4,
 "nbformat_minor": 2
}
