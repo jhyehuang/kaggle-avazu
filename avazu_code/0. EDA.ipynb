{
 "cells": [
  {
   "cell_type": "markdown",
   "metadata": {},
   "source": [
    "# 数据探索\n"
   ]
  },
  {
   "cell_type": "code",
   "execution_count": 1,
   "metadata": {
    "collapsed": true
   },
   "outputs": [],
   "source": [
    "import pandas as pd\n",
    "import numpy as np"
   ]
  },
  {
   "cell_type": "code",
   "execution_count": 2,
   "metadata": {
    "collapsed": true
   },
   "outputs": [],
   "source": [
    "from flags import FLAGS, unparsed\n",
    "from ml.ml_utils import *\n",
    "import matplotlib.pyplot as plt\n",
    "import seaborn as sns\n",
    "%matplotlib inline\n"
   ]
  },
  {
   "cell_type": "code",
   "execution_count": 3,
   "metadata": {
    "scrolled": true
   },
   "outputs": [],
   "source": [
    " \"\"\"\n",
    "• id: ad identifier （广告 ID）\n",
    "• click: 0/1 for non-click/click （是否被点击，其中 0 为不被点击，1 为不被点击，此列为目\n",
    "标变量）\n",
    "• hour: format is YYMMDDHH, so 14091123 means 23:00 on Sept. 11, 2014 UTC. （时间）\n",
    "• C1 -- anonymized categorical variable （类别型变量）\n",
    "• banner_pos （广告位置）\n",
    "• site_id （站点 ID）\n",
    "• site_domain （站点领域）\n",
    "• site_category （站点类别）\n",
    "• app_id （APP ID）\n",
    "• app_domai\n",
    "• C14-C21 -- anonymized categorical variables （类别型变量）\n",
    " \"\"\"\n",
    "#读取数据\n",
    "train = pd.read_csv(FLAGS.src_train_path,nrows =500)"
   ]
  },
  {
   "cell_type": "code",
   "execution_count": 19,
   "metadata": {},
   "outputs": [
    {
     "data": {
      "text/plain": [
       "0      a99f214a\n",
       "1      a99f214a\n",
       "2      a99f214a\n",
       "3      a99f214a\n",
       "4      a99f214a\n",
       "5      a99f214a\n",
       "6      a99f214a\n",
       "7      3772665a\n",
       "8      a99f214a\n",
       "9      a99f214a\n",
       "10     a99f214a\n",
       "11     a99f214a\n",
       "12     f414c848\n",
       "13     df62db53\n",
       "14     a99f214a\n",
       "15     a99f214a\n",
       "16     a99f214a\n",
       "17     c25d43cd\n",
       "18     a99f214a\n",
       "19     a99f214a\n",
       "20     a99f214a\n",
       "21     a99f214a\n",
       "22     a99f214a\n",
       "23     a99f214a\n",
       "24     a99f214a\n",
       "25     c7568a45\n",
       "26     a99f214a\n",
       "27     a99f214a\n",
       "28     a99f214a\n",
       "29     a99f214a\n",
       "         ...   \n",
       "470    a99f214a\n",
       "471    a99f214a\n",
       "472    074ace60\n",
       "473    a99f214a\n",
       "474    112aad6d\n",
       "475    a040dec4\n",
       "476    b194b8cd\n",
       "477    6659ccd3\n",
       "478    39c1e90b\n",
       "479    a99f214a\n",
       "480    a99f214a\n",
       "481    a99f214a\n",
       "482    a99f214a\n",
       "483    a99f214a\n",
       "484    a99f214a\n",
       "485    a99f214a\n",
       "486    a99f214a\n",
       "487    a99f214a\n",
       "488    a99f214a\n",
       "489    a99f214a\n",
       "490    a99f214a\n",
       "491    a99f214a\n",
       "492    a99f214a\n",
       "493    a99f214a\n",
       "494    a99f214a\n",
       "495    a99f214a\n",
       "496    a99f214a\n",
       "497    a99f214a\n",
       "498    a99f214a\n",
       "499    a99f214a\n",
       "Name: device_id, Length: 500, dtype: object"
      ]
     },
     "execution_count": 19,
     "metadata": {},
     "output_type": "execute_result"
    }
   ],
   "source": [
    "train['device_id']"
   ]
  },
  {
   "cell_type": "code",
   "execution_count": 6,
   "metadata": {
    "scrolled": true
   },
   "outputs": [
    {
     "name": "stdout",
     "output_type": "stream",
     "text": [
      "<class 'pandas.core.frame.DataFrame'>\n",
      "RangeIndex: 500 entries, 0 to 499\n",
      "Data columns (total 24 columns):\n",
      "id                  500 non-null uint64\n",
      "click               500 non-null int64\n",
      "hour                500 non-null int64\n",
      "C1                  500 non-null int64\n",
      "banner_pos          500 non-null int64\n",
      "site_id             500 non-null object\n",
      "site_domain         500 non-null object\n",
      "site_category       500 non-null object\n",
      "app_id              500 non-null object\n",
      "app_domain          500 non-null object\n",
      "app_category        500 non-null object\n",
      "device_id           500 non-null object\n",
      "device_ip           500 non-null object\n",
      "device_model        500 non-null object\n",
      "device_type         500 non-null int64\n",
      "device_conn_type    500 non-null int64\n",
      "C14                 500 non-null int64\n",
      "C15                 500 non-null int64\n",
      "C16                 500 non-null int64\n",
      "C17                 500 non-null int64\n",
      "C18                 500 non-null int64\n",
      "C19                 500 non-null int64\n",
      "C20                 500 non-null int64\n",
      "C21                 500 non-null int64\n",
      "dtypes: int64(14), object(9), uint64(1)\n",
      "memory usage: 93.8+ KB\n"
     ]
    }
   ],
   "source": [
    "train.info()"
   ]
  },
  {
   "cell_type": "code",
   "execution_count": 9,
   "metadata": {},
   "outputs": [
    {
     "data": {
      "text/plain": [
       "True"
      ]
     },
     "execution_count": 9,
     "metadata": {},
     "output_type": "execute_result"
    }
   ],
   "source": [
    "train['site_id'].dtypes=='object'"
   ]
  },
  {
   "cell_type": "code",
   "execution_count": 10,
   "metadata": {
    "scrolled": true
   },
   "outputs": [
    {
     "data": {
      "text/plain": [
       "{'0555f2bc': -1,\n",
       " '056655be': -1,\n",
       " '062b1c4c': -1,\n",
       " '074ace60': -1,\n",
       " '0d5d53fc': -1,\n",
       " '112aad6d': -1,\n",
       " '11c958e6': -1,\n",
       " '129b5ddc': -1,\n",
       " '149fc5c6': -1,\n",
       " '203eb659': -1,\n",
       " '30b85498': -1,\n",
       " '34fb36c5': -1,\n",
       " '355dde08': -1,\n",
       " '3737ddc6': -1,\n",
       " '3772665a': -1,\n",
       " '38c2e290': -1,\n",
       " '39c1e90b': -1,\n",
       " '3a51ff0f': -1,\n",
       " '3d28892b': -1,\n",
       " '4143684a': -1,\n",
       " '4361e319': -1,\n",
       " '44239568': -1,\n",
       " '45c04824': -1,\n",
       " '4b96c779': -1,\n",
       " '4d5c4b49': -1,\n",
       " '5177bf06': -1,\n",
       " '52260ad2': -1,\n",
       " '54646d0e': -1,\n",
       " '56cd1742': -1,\n",
       " '5c9c044a': -1,\n",
       " '5fea939e': -1,\n",
       " '60ba22c2': -1,\n",
       " '626697aa': -1,\n",
       " '6280ce87': -1,\n",
       " '642eafdb': -1,\n",
       " '6659ccd3': -1,\n",
       " '692f21b2': -1,\n",
       " '6d689031': -1,\n",
       " '6f065eef': -1,\n",
       " '72cbe240': -1,\n",
       " '7b4e01b6': -1,\n",
       " '84c8d8fe': -1,\n",
       " '8d41dabd': -1,\n",
       " '8e6abea8': -1,\n",
       " '936e92fb': -1,\n",
       " '973e1997': -1,\n",
       " '977199d4': -1,\n",
       " '9848933c': -1,\n",
       " '9883d1cf': -1,\n",
       " '989e7418': -1,\n",
       " 'a040dec4': -1,\n",
       " 'a2b17167': -1,\n",
       " 'a39cd601': -1,\n",
       " 'a5cd53ed': -1,\n",
       " 'a99f214a': 419,\n",
       " 'ae843079': -1,\n",
       " 'af08e95d': -1,\n",
       " 'b194b8cd': -1,\n",
       " 'b496f6d3': -1,\n",
       " 'b9c1b771': -1,\n",
       " 'b9f25d10': -1,\n",
       " 'bd631d31': -1,\n",
       " 'c25d43cd': -1,\n",
       " 'c3113588': -1,\n",
       " 'c3d4a419': -1,\n",
       " 'c7568a45': -1,\n",
       " 'd26c6fe3': -1,\n",
       " 'd5eec38b': -1,\n",
       " 'daf654d0': -1,\n",
       " 'df25a415': -1,\n",
       " 'df62db53': -1,\n",
       " 'e2bc6c93': -1,\n",
       " 'e55a33e5': -1,\n",
       " 'e7dfec04': -1,\n",
       " 'ec43310a': -1,\n",
       " 'edbad322': -1,\n",
       " 'f414c848': -1,\n",
       " 'f551f9a0': -1,\n",
       " 'fb3dd181': -1,\n",
       " 'fb6528ec': -1,\n",
       " 'ff2c57ed': -1}"
      ]
     },
     "execution_count": 10,
     "metadata": {},
     "output_type": "execute_result"
    }
   ],
   "source": [
    "dict((key,-1) if value <10 else (key,value)  for key,value in dict(train['device_id'].value_counts()).items())"
   ]
  },
  {
   "cell_type": "markdown",
   "metadata": {},
   "source": [
    "train = pd.read_csv(\"D:/GitHub/data/avazu_data/train.csv\",usecols=[2],nrows =50)"
   ]
  },
  {
   "cell_type": "code",
   "execution_count": 4,
   "metadata": {},
   "outputs": [
    {
     "name": "stdout",
     "output_type": "stream",
     "text": [
      "<class 'pandas.core.frame.DataFrame'>\n",
      "RangeIndex: 40428967 entries, 0 to 40428966\n",
      "Data columns (total 24 columns):\n",
      "id                  float64\n",
      "click               int64\n",
      "hour                int64\n",
      "C1                  int64\n",
      "banner_pos          int64\n",
      "site_id             object\n",
      "site_domain         object\n",
      "site_category       object\n",
      "app_id              object\n",
      "app_domain          object\n",
      "app_category        object\n",
      "device_id           object\n",
      "device_ip           object\n",
      "device_model        object\n",
      "device_type         int64\n",
      "device_conn_type    int64\n",
      "C14                 int64\n",
      "C15                 int64\n",
      "C16                 int64\n",
      "C17                 int64\n",
      "C18                 int64\n",
      "C19                 int64\n",
      "C20                 int64\n",
      "C21                 int64\n",
      "dtypes: float64(1), int64(14), object(9)\n",
      "memory usage: 7.2+ GB\n"
     ]
    }
   ],
   "source": [
    "train.info()"
   ]
  },
  {
   "cell_type": "code",
   "execution_count": 11,
   "metadata": {
    "scrolled": true
   },
   "outputs": [
    {
     "data": {
      "text/html": [
       "<div>\n",
       "<style>\n",
       "    .dataframe thead tr:only-child th {\n",
       "        text-align: right;\n",
       "    }\n",
       "\n",
       "    .dataframe thead th {\n",
       "        text-align: left;\n",
       "    }\n",
       "\n",
       "    .dataframe tbody tr th {\n",
       "        vertical-align: top;\n",
       "    }\n",
       "</style>\n",
       "<table border=\"1\" class=\"dataframe\">\n",
       "  <thead>\n",
       "    <tr style=\"text-align: right;\">\n",
       "      <th></th>\n",
       "      <th>id</th>\n",
       "      <th>click</th>\n",
       "      <th>hour</th>\n",
       "      <th>C1</th>\n",
       "      <th>banner_pos</th>\n",
       "      <th>site_id</th>\n",
       "      <th>site_domain</th>\n",
       "      <th>site_category</th>\n",
       "      <th>app_id</th>\n",
       "      <th>app_domain</th>\n",
       "      <th>...</th>\n",
       "      <th>C19</th>\n",
       "      <th>C20</th>\n",
       "      <th>C21</th>\n",
       "      <th>date</th>\n",
       "      <th>one_day</th>\n",
       "      <th>one_day_hour</th>\n",
       "      <th>week_day</th>\n",
       "      <th>day_hour_prev</th>\n",
       "      <th>day_hour_next</th>\n",
       "      <th>is_work_day</th>\n",
       "    </tr>\n",
       "  </thead>\n",
       "  <tbody>\n",
       "  </tbody>\n",
       "</table>\n",
       "<p>0 rows × 31 columns</p>\n",
       "</div>"
      ],
      "text/plain": [
       "Empty DataFrame\n",
       "Columns: [id, click, hour, C1, banner_pos, site_id, site_domain, site_category, app_id, app_domain, app_category, device_id, device_ip, device_model, device_type, device_conn_type, C14, C15, C16, C17, C18, C19, C20, C21, date, one_day, one_day_hour, week_day, day_hour_prev, day_hour_next, is_work_day]\n",
       "Index: []\n",
       "\n",
       "[0 rows x 31 columns]"
      ]
     },
     "execution_count": 11,
     "metadata": {},
     "output_type": "execute_result"
    }
   ],
   "source": [
    "\n",
    "train['date']=pd.to_datetime((train['hour'] / 100).map(int)+20000000)\n",
    "        \n",
    "train['one_day']=train['date'].dt.day\n",
    "train['one_day_hour'] = train['date'].dt.hour\n",
    "train['week_day'] = train['date'].dt.dayofweek\n",
    "train['day_hour_prev'] = train['one_day_hour'] - 1\n",
    "train['day_hour_next'] = train['one_day_hour'] + 1\n",
    "train['is_work_day'] = train['week_day'].apply(lambda x: 1 if x in [0,1,2,3,4] else 0)\n",
    "train[train['is_work_day']==0]"
   ]
  },
  {
   "cell_type": "code",
   "execution_count": 13,
   "metadata": {},
   "outputs": [
    {
     "name": "stdout",
     "output_type": "stream",
     "text": [
      "<class 'pandas.core.frame.DataFrame'>\n",
      "RangeIndex: 500 entries, 0 to 499\n",
      "Data columns (total 31 columns):\n",
      "id                  500 non-null uint64\n",
      "click               500 non-null int64\n",
      "hour                500 non-null int64\n",
      "C1                  500 non-null int64\n",
      "banner_pos          500 non-null int64\n",
      "site_id             500 non-null object\n",
      "site_domain         500 non-null object\n",
      "site_category       500 non-null object\n",
      "app_id              500 non-null object\n",
      "app_domain          500 non-null object\n",
      "app_category        500 non-null object\n",
      "device_id           500 non-null object\n",
      "device_ip           500 non-null object\n",
      "device_model        500 non-null object\n",
      "device_type         500 non-null int64\n",
      "device_conn_type    500 non-null int64\n",
      "C14                 500 non-null int64\n",
      "C15                 500 non-null int64\n",
      "C16                 500 non-null int64\n",
      "C17                 500 non-null int64\n",
      "C18                 500 non-null int64\n",
      "C19                 500 non-null int64\n",
      "C20                 500 non-null int64\n",
      "C21                 500 non-null int64\n",
      "date                500 non-null datetime64[ns]\n",
      "one_day             500 non-null int64\n",
      "one_day_hour        500 non-null int64\n",
      "week_day            500 non-null int64\n",
      "day_hour_prev       500 non-null int64\n",
      "day_hour_next       500 non-null int64\n",
      "is_work_day         500 non-null int64\n",
      "dtypes: datetime64[ns](1), int64(20), object(9), uint64(1)\n",
      "memory usage: 121.2+ KB\n"
     ]
    }
   ],
   "source": [
    "train.info()"
   ]
  },
  {
   "cell_type": "code",
   "execution_count": 12,
   "metadata": {},
   "outputs": [
    {
     "name": "stdout",
     "output_type": "stream",
     "text": [
      "['id' 'click' 'hour' 'C1' 'banner_pos' 'site_id' 'site_domain'\n",
      " 'site_category' 'app_id' 'app_domain' 'app_category' 'device_id'\n",
      " 'device_ip' 'device_model' 'device_type' 'device_conn_type' 'C14' 'C15'\n",
      " 'C16' 'C17' 'C18' 'C19' 'C20' 'C21' 'date' 'one_day' 'one_day_hour'\n",
      " 'week_day' 'day_hour_prev' 'day_hour_next' 'is_work_day']\n"
     ]
    }
   ],
   "source": [
    "print (train.columns.values)\n",
    "min_col=['id', 'click', 'hour', 'C1', 'banner_pos', 'site_id',\n",
    "       'site_domain', 'site_category', 'app_id', 'app_domain',\n",
    "       'app_category', 'device_id', 'device_ip', 'device_model',\n",
    "       'device_type', 'device_conn_type']"
   ]
  },
  {
   "cell_type": "markdown",
   "metadata": {
    "collapsed": true
   },
   "source": [
    "for col in min_col:\n",
    "    rets=col_anly(col)\n",
    "    col_plt(rets,col,plt)"
   ]
  },
  {
   "cell_type": "code",
   "execution_count": null,
   "metadata": {
    "collapsed": true
   },
   "outputs": [],
   "source": [
    "sns_factorplot(train_one=train,col_name='week_day',kind='count',plt=plt,sns=sns)"
   ]
  },
  {
   "cell_type": "code",
   "execution_count": 15,
   "metadata": {},
   "outputs": [],
   "source": [
    "a=pd.read_csv('F:/GitHub/data/avazu_data/output/cat_features.csv')"
   ]
  },
  {
   "cell_type": "code",
   "execution_count": 17,
   "metadata": {},
   "outputs": [
    {
     "data": {
      "text/html": [
       "<div>\n",
       "<style>\n",
       "    .dataframe thead tr:only-child th {\n",
       "        text-align: right;\n",
       "    }\n",
       "\n",
       "    .dataframe thead th {\n",
       "        text-align: left;\n",
       "    }\n",
       "\n",
       "    .dataframe tbody tr th {\n",
       "        vertical-align: top;\n",
       "    }\n",
       "</style>\n",
       "<table border=\"1\" class=\"dataframe\">\n",
       "  <thead>\n",
       "    <tr style=\"text-align: right;\">\n",
       "      <th></th>\n",
       "      <th>id</th>\n",
       "      <th>C14</th>\n",
       "      <th>C17</th>\n",
       "      <th>C21</th>\n",
       "      <th>app_domain</th>\n",
       "      <th>app_id</th>\n",
       "      <th>device_id</th>\n",
       "      <th>device_ip</th>\n",
       "      <th>device_model</th>\n",
       "      <th>hour</th>\n",
       "      <th>site_domain</th>\n",
       "      <th>site_id</th>\n",
       "    </tr>\n",
       "  </thead>\n",
       "  <tbody>\n",
       "    <tr>\n",
       "      <th>0</th>\n",
       "      <td>10000174058809263569</td>\n",
       "      <td>8330</td>\n",
       "      <td>761</td>\n",
       "      <td>23</td>\n",
       "      <td>7</td>\n",
       "      <td>57</td>\n",
       "      <td>54</td>\n",
       "      <td>210</td>\n",
       "      <td>11</td>\n",
       "      <td>14103100</td>\n",
       "      <td>53</td>\n",
       "      <td>7</td>\n",
       "    </tr>\n",
       "    <tr>\n",
       "      <th>1</th>\n",
       "      <td>10000182526920855428</td>\n",
       "      <td>22676</td>\n",
       "      <td>2616</td>\n",
       "      <td>51</td>\n",
       "      <td>7</td>\n",
       "      <td>57</td>\n",
       "      <td>54</td>\n",
       "      <td>434</td>\n",
       "      <td>226</td>\n",
       "      <td>14103100</td>\n",
       "      <td>52</td>\n",
       "      <td>6</td>\n",
       "    </tr>\n",
       "    <tr>\n",
       "      <th>2</th>\n",
       "      <td>10000554139829213984</td>\n",
       "      <td>22676</td>\n",
       "      <td>2616</td>\n",
       "      <td>51</td>\n",
       "      <td>7</td>\n",
       "      <td>57</td>\n",
       "      <td>54</td>\n",
       "      <td>35</td>\n",
       "      <td>24</td>\n",
       "      <td>14103100</td>\n",
       "      <td>52</td>\n",
       "      <td>6</td>\n",
       "    </tr>\n",
       "    <tr>\n",
       "      <th>3</th>\n",
       "      <td>10001094637809798845</td>\n",
       "      <td>18648</td>\n",
       "      <td>1092</td>\n",
       "      <td>61</td>\n",
       "      <td>11</td>\n",
       "      <td>18</td>\n",
       "      <td>54</td>\n",
       "      <td>116</td>\n",
       "      <td>69</td>\n",
       "      <td>14103100</td>\n",
       "      <td>41</td>\n",
       "      <td>34</td>\n",
       "    </tr>\n",
       "    <tr>\n",
       "      <th>4</th>\n",
       "      <td>10001377041558670745</td>\n",
       "      <td>23160</td>\n",
       "      <td>2667</td>\n",
       "      <td>221</td>\n",
       "      <td>3</td>\n",
       "      <td>43</td>\n",
       "      <td>54</td>\n",
       "      <td>19</td>\n",
       "      <td>24</td>\n",
       "      <td>14103100</td>\n",
       "      <td>41</td>\n",
       "      <td>34</td>\n",
       "    </tr>\n",
       "  </tbody>\n",
       "</table>\n",
       "</div>"
      ],
      "text/plain": [
       "                     id    C14   C17  C21  app_domain  app_id  device_id  \\\n",
       "0  10000174058809263569   8330   761   23           7      57         54   \n",
       "1  10000182526920855428  22676  2616   51           7      57         54   \n",
       "2  10000554139829213984  22676  2616   51           7      57         54   \n",
       "3  10001094637809798845  18648  1092   61          11      18         54   \n",
       "4  10001377041558670745  23160  2667  221           3      43         54   \n",
       "\n",
       "   device_ip  device_model      hour  site_domain  site_id  \n",
       "0        210            11  14103100           53        7  \n",
       "1        434           226  14103100           52        6  \n",
       "2         35            24  14103100           52        6  \n",
       "3        116            69  14103100           41       34  \n",
       "4         19            24  14103100           41       34  "
      ]
     },
     "execution_count": 17,
     "metadata": {},
     "output_type": "execute_result"
    }
   ],
   "source": [
    "a.head()"
   ]
  },
  {
   "cell_type": "code",
   "execution_count": null,
   "metadata": {
    "collapsed": true
   },
   "outputs": [],
   "source": []
  }
 ],
 "metadata": {
  "kernelspec": {
   "display_name": "Python 3",
   "language": "python",
   "name": "python3"
  },
  "language_info": {
   "codemirror_mode": {
    "name": "ipython",
    "version": 3
   },
   "file_extension": ".py",
   "mimetype": "text/x-python",
   "name": "python",
   "nbconvert_exporter": "python",
   "pygments_lexer": "ipython3",
   "version": "3.6.3"
  }
 },
 "nbformat": 4,
 "nbformat_minor": 2
}
