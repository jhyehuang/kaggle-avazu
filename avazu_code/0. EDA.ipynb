{
 "cells": [
  {
   "cell_type": "markdown",
   "metadata": {},
   "source": [
    "# 数据探索\n"
   ]
  },
  {
   "cell_type": "code",
   "execution_count": 1,
   "metadata": {
    "collapsed": true
   },
   "outputs": [],
   "source": [
    "import pandas as pd\n",
    "import numpy as np"
   ]
  },
  {
   "cell_type": "code",
   "execution_count": 2,
   "metadata": {
    "collapsed": true
   },
   "outputs": [],
   "source": [
    "from flags import FLAGS, unparsed\n",
    "from ml.ml_utils import *\n",
    "import matplotlib.pyplot as plt\n",
    "import seaborn as sns\n",
    "%matplotlib inline\n"
   ]
  },
  {
   "cell_type": "code",
   "execution_count": 3,
   "metadata": {
    "scrolled": true
   },
   "outputs": [
    {
     "data": {
      "text/plain": [
       "'\\n• id: ad identifier （广告 ID）\\n• click: 0/1 for non-click/click （是否被点击，其中 0 为不被点击，1 为不被点击，此列为目\\n标变量）\\n• hour: format is YYMMDDHH, so 14091123 means 23:00 on Sept. 11, 2014 UTC. （时间）\\n• C1 -- anonymized categorical variable （类别型变量）\\n• banner_pos （广告位置）\\n• site_id （站点 ID）\\n• site_domain （站点领域）\\n• site_category （站点类别）\\n• app_id （APP ID）\\n• app_domai\\n• C14-C21 -- anonymized categorical variables （类别型变量）\\n'"
      ]
     },
     "execution_count": 3,
     "metadata": {},
     "output_type": "execute_result"
    }
   ],
   "source": [
    " \"\"\"\n",
    "• id: ad identifier （广告 ID）\n",
    "• click: 0/1 for non-click/click （是否被点击，其中 0 为不被点击，1 为不被点击，此列为目\n",
    "标变量）\n",
    "• hour: format is YYMMDDHH, so 14091123 means 23:00 on Sept. 11, 2014 UTC. （时间）\n",
    "• C1 -- anonymized categorical variable （类别型变量）\n",
    "• banner_pos （广告位置）\n",
    "• site_id （站点 ID）\n",
    "• site_domain （站点领域）\n",
    "• site_category （站点类别）\n",
    "• app_id （APP ID）\n",
    "• app_domai\n",
    "• C14-C21 -- anonymized categorical variables （类别型变量）\n",
    " \"\"\"\n",
    "#读取数据\n",
    "#train = pd.read_csv(FLAGS.tmp_data_path+\"C14\")"
   ]
  },
  {
   "cell_type": "code",
   "execution_count": 23,
   "metadata": {},
   "outputs": [],
   "source": [
    "train = pd.read_csv(\"D:/GitHub/data/avazu_data/train.csv\",usecols=[2],nrows =50)"
   ]
  },
  {
   "cell_type": "code",
   "execution_count": 24,
   "metadata": {},
   "outputs": [
    {
     "data": {
      "text/html": [
       "<div>\n",
       "<style>\n",
       "    .dataframe thead tr:only-child th {\n",
       "        text-align: right;\n",
       "    }\n",
       "\n",
       "    .dataframe thead th {\n",
       "        text-align: left;\n",
       "    }\n",
       "\n",
       "    .dataframe tbody tr th {\n",
       "        vertical-align: top;\n",
       "    }\n",
       "</style>\n",
       "<table border=\"1\" class=\"dataframe\">\n",
       "  <thead>\n",
       "    <tr style=\"text-align: right;\">\n",
       "      <th></th>\n",
       "      <th>hour</th>\n",
       "    </tr>\n",
       "  </thead>\n",
       "  <tbody>\n",
       "    <tr>\n",
       "      <th>0</th>\n",
       "      <td>14102100</td>\n",
       "    </tr>\n",
       "    <tr>\n",
       "      <th>1</th>\n",
       "      <td>14102100</td>\n",
       "    </tr>\n",
       "    <tr>\n",
       "      <th>2</th>\n",
       "      <td>14102100</td>\n",
       "    </tr>\n",
       "    <tr>\n",
       "      <th>3</th>\n",
       "      <td>14102100</td>\n",
       "    </tr>\n",
       "    <tr>\n",
       "      <th>4</th>\n",
       "      <td>14102100</td>\n",
       "    </tr>\n",
       "  </tbody>\n",
       "</table>\n",
       "</div>"
      ],
      "text/plain": [
       "       hour\n",
       "0  14102100\n",
       "1  14102100\n",
       "2  14102100\n",
       "3  14102100\n",
       "4  14102100"
      ]
     },
     "execution_count": 24,
     "metadata": {},
     "output_type": "execute_result"
    }
   ],
   "source": [
    "train.head()"
   ]
  },
  {
   "cell_type": "code",
   "execution_count": 6,
   "metadata": {},
   "outputs": [
    {
     "name": "stdout",
     "output_type": "stream",
     "text": [
      "<class 'pandas.core.frame.DataFrame'>\n",
      "RangeIndex: 499999 entries, 0 to 499998\n",
      "Data columns (total 24 columns):\n",
      "id                  499999 non-null float64\n",
      "click               499999 non-null int64\n",
      "hour                499999 non-null int64\n",
      "C1                  499999 non-null int64\n",
      "banner_pos          499999 non-null int64\n",
      "site_id             499999 non-null object\n",
      "site_domain         499999 non-null object\n",
      "site_category       499999 non-null object\n",
      "app_id              499999 non-null object\n",
      "app_domain          499999 non-null object\n",
      "app_category        499999 non-null object\n",
      "device_id           499999 non-null object\n",
      "device_ip           499999 non-null object\n",
      "device_model        499999 non-null object\n",
      "device_type         499999 non-null int64\n",
      "device_conn_type    499999 non-null int64\n",
      "C14                 499999 non-null int64\n",
      "C15                 499999 non-null int64\n",
      "C16                 499999 non-null int64\n",
      "C17                 499999 non-null int64\n",
      "C18                 499999 non-null int64\n",
      "C19                 499999 non-null int64\n",
      "C20                 499999 non-null int64\n",
      "C21                 499999 non-null int64\n",
      "dtypes: float64(1), int64(14), object(9)\n",
      "memory usage: 91.6+ MB\n"
     ]
    }
   ],
   "source": [
    "train.info()"
   ]
  },
  {
   "cell_type": "code",
   "execution_count": 7,
   "metadata": {},
   "outputs": [
    {
     "data": {
      "text/html": [
       "<div>\n",
       "<style>\n",
       "    .dataframe thead tr:only-child th {\n",
       "        text-align: right;\n",
       "    }\n",
       "\n",
       "    .dataframe thead th {\n",
       "        text-align: left;\n",
       "    }\n",
       "\n",
       "    .dataframe tbody tr th {\n",
       "        vertical-align: top;\n",
       "    }\n",
       "</style>\n",
       "<table border=\"1\" class=\"dataframe\">\n",
       "  <thead>\n",
       "    <tr style=\"text-align: right;\">\n",
       "      <th></th>\n",
       "      <th>date</th>\n",
       "      <th>one_day</th>\n",
       "      <th>one_day_hour</th>\n",
       "      <th>week_day</th>\n",
       "      <th>day_hour_prev</th>\n",
       "      <th>day_hour_next</th>\n",
       "      <th>is_work_day</th>\n",
       "    </tr>\n",
       "  </thead>\n",
       "  <tbody>\n",
       "  </tbody>\n",
       "</table>\n",
       "</div>"
      ],
      "text/plain": [
       "Empty DataFrame\n",
       "Columns: [date, one_day, one_day_hour, week_day, day_hour_prev, day_hour_next, is_work_day]\n",
       "Index: []"
      ]
     },
     "execution_count": 7,
     "metadata": {},
     "output_type": "execute_result"
    }
   ],
   "source": [
    "new_row=pd.DataFrame(columns=['date'])\n",
    "new_row['date']=pd.to_datetime((train['hour'] / 100).map(int)+20000000)\n",
    "        \n",
    "new_row['one_day']=new_row['date'].dt.day\n",
    "new_row['one_day_hour'] = new_row['date'].dt.hour\n",
    "new_row['week_day'] = new_row['date'].dt.dayofweek\n",
    "new_row['day_hour_prev'] = new_row['one_day_hour'] - 1\n",
    "new_row['day_hour_next'] = new_row['one_day_hour'] + 1\n",
    "new_row['is_work_day'] = new_row['week_day'].apply(lambda x: 1 if x in [0,1,2,3,4] else 0)\n",
    "new_row[new_row['is_work_day']==0]"
   ]
  },
  {
   "cell_type": "code",
   "execution_count": 12,
   "metadata": {},
   "outputs": [
    {
     "name": "stdout",
     "output_type": "stream",
     "text": [
      "['id' 'click' 'hour' 'C1' 'banner_pos' 'site_id' 'site_domain'\n",
      " 'site_category' 'app_id' 'app_domain' 'app_category' 'device_id'\n",
      " 'device_ip' 'device_model' 'device_type' 'device_conn_type' 'C14' 'C15'\n",
      " 'C16' 'C17' 'C18' 'C19' 'C20' 'C21']\n"
     ]
    }
   ],
   "source": [
    "print (train.columns.values)\n",
    "min_col=['id', 'click', 'hour', 'C1', 'banner_pos', 'site_id',\n",
    "       'site_domain', 'site_category', 'app_id', 'app_domain',\n",
    "       'app_category', 'device_id', 'device_ip', 'device_model',\n",
    "       'device_type', 'device_conn_type']"
   ]
  },
  {
   "cell_type": "markdown",
   "metadata": {
    "collapsed": true
   },
   "source": [
    "for col in min_col:\n",
    "    rets=col_anly(col)\n",
    "    col_plt(rets,col,plt)"
   ]
  },
  {
   "cell_type": "code",
   "execution_count": 9,
   "metadata": {},
   "outputs": [
    {
     "ename": "TypeError",
     "evalue": "check_col_count_less_11() missing 1 required positional argument: 'col_name'",
     "output_type": "error",
     "traceback": [
      "\u001b[1;31m---------------------------------------------------------------------------\u001b[0m",
      "\u001b[1;31mTypeError\u001b[0m                                 Traceback (most recent call last)",
      "\u001b[1;32m<ipython-input-9-be0929d28d15>\u001b[0m in \u001b[0;36m<module>\u001b[1;34m()\u001b[0m\n\u001b[1;32m----> 1\u001b[1;33m \u001b[0mcheck_col_count_less_11\u001b[0m\u001b[1;33m(\u001b[0m\u001b[1;34m'site_id'\u001b[0m\u001b[1;33m)\u001b[0m\u001b[1;33m\u001b[0m\u001b[0m\n\u001b[0m",
      "\u001b[1;31mTypeError\u001b[0m: check_col_count_less_11() missing 1 required positional argument: 'col_name'"
     ]
    }
   ],
   "source": [
    "check_col_count_less_11('site_id')"
   ]
  },
  {
   "cell_type": "code",
   "execution_count": null,
   "metadata": {
    "collapsed": true
   },
   "outputs": [],
   "source": [
    "b=a[a.values<10]"
   ]
  },
  {
   "cell_type": "code",
   "execution_count": null,
   "metadata": {
    "collapsed": true
   },
   "outputs": [],
   "source": [
    "c=dict(b)"
   ]
  },
  {
   "cell_type": "code",
   "execution_count": null,
   "metadata": {
    "collapsed": true
   },
   "outputs": [],
   "source": [
    "sns_factorplot(col_name='device_conn_type',kind='count',plt=plt,sns=sns)"
   ]
  },
  {
   "cell_type": "code",
   "execution_count": null,
   "metadata": {
    "collapsed": true
   },
   "outputs": [],
   "source": []
  }
 ],
 "metadata": {
  "kernelspec": {
   "display_name": "Python 3",
   "language": "python",
   "name": "python3"
  },
  "language_info": {
   "codemirror_mode": {
    "name": "ipython",
    "version": 3
   },
   "file_extension": ".py",
   "mimetype": "text/x-python",
   "name": "python",
   "nbconvert_exporter": "python",
   "pygments_lexer": "ipython3",
   "version": "3.6.3"
  }
 },
 "nbformat": 4,
 "nbformat_minor": 2
}
