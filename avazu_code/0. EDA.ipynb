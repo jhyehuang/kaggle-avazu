{
 "cells": [
  {
   "cell_type": "markdown",
   "metadata": {},
   "source": [
    "# 数据探索\n"
   ]
  },
  {
   "cell_type": "code",
   "execution_count": 1,
   "metadata": {},
   "outputs": [],
   "source": [
    "import pandas as pd\n",
    "import numpy as np"
   ]
  },
  {
   "cell_type": "code",
   "execution_count": 2,
   "metadata": {},
   "outputs": [],
   "source": [
    "from flags import FLAGS, unparsed\n",
    "from ml.ml_utils import *\n",
    "import matplotlib.pyplot as plt\n",
    "import seaborn as sns\n",
    "%matplotlib inline\n"
   ]
  },
  {
   "cell_type": "code",
   "execution_count": 3,
   "metadata": {
    "scrolled": true
   },
   "outputs": [],
   "source": [
    " \"\"\"\n",
    "• id: ad identifier （广告 ID）\n",
    "• click: 0/1 for non-click/click （是否被点击，其中 0 为不被点击，1 为不被点击，此列为目\n",
    "标变量）\n",
    "• hour: format is YYMMDDHH, so 14091123 means 23:00 on Sept. 11, 2014 UTC. （时间）\n",
    "• C1 -- anonymized categorical variable （类别型变量）\n",
    "• banner_pos （广告位置）\n",
    "• site_id （站点 ID）\n",
    "• site_domain （站点领域）\n",
    "• site_category （站点类别）\n",
    "• app_id （APP ID）\n",
    "• app_domai\n",
    "• C14-C21 -- anonymized categorical variables （类别型变量）\n",
    " \"\"\"\n",
    "#读取数据\n",
    "train = pd.read_csv(FLAGS.src_train_path,nrows =500)"
   ]
  },
  {
   "cell_type": "code",
   "execution_count": 11,
   "metadata": {},
   "outputs": [
    {
     "data": {
      "text/plain": [
       "{'017c59a6': -1,\n",
       " '03cb167d': -1,\n",
       " '0c3bbac0': -1,\n",
       " '0cc497c8': -1,\n",
       " '0f4a50fd': -1,\n",
       " '175e2558': -1,\n",
       " '1ab3feec': -1,\n",
       " '1c6dc527': -1,\n",
       " '1d5b4c5e': -1,\n",
       " '266f36a6': -1,\n",
       " '2a5eebfd': -1,\n",
       " '2ad16ba3': -1,\n",
       " '2c01b6dc': -1,\n",
       " '2c5594e1': -1,\n",
       " '30f17f5f': -1,\n",
       " '31f9b704': -1,\n",
       " '336ed370': -1,\n",
       " '3aa38dfe': -1,\n",
       " '3b4d9b97': -1,\n",
       " '3c0208dc': -1,\n",
       " '432cd280': -1,\n",
       " '4b2309e9': -1,\n",
       " '556a65e5': -1,\n",
       " '598b6ac9': -1,\n",
       " '665bffed': -1,\n",
       " '6a943594': -1,\n",
       " '6b17789a': -1,\n",
       " '71c467d1': -1,\n",
       " '767a174e': -1,\n",
       " '7d98887a': -1,\n",
       " '7f4b1f1e': -1,\n",
       " '8205da6e': -1,\n",
       " '890abcbb': -1,\n",
       " '8a869341': -1,\n",
       " '936e92fb': -1,\n",
       " '971d35f0': -1,\n",
       " '9906e40c': -1,\n",
       " '9af87478': -1,\n",
       " 'a167aa83': -1,\n",
       " 'a2cbb1e0': -1,\n",
       " 'a3d873bc': -1,\n",
       " 'a6060f2f': -1,\n",
       " 'a7420ec6': -1,\n",
       " 'a99f214a': 436,\n",
       " 'ac49f12d': -1,\n",
       " 'b36096d3': -1,\n",
       " 'b45aada4': -1,\n",
       " 'bc47be9e': -1,\n",
       " 'bd544220': -1,\n",
       " 'bd7c02a1': -1,\n",
       " 'c34f8cb7': -1,\n",
       " 'c357dbff': -1,\n",
       " 'cb1fc8bd': -1,\n",
       " 'cb73ba55': -1,\n",
       " 'd2bbb640': -1,\n",
       " 'd4a4f036': -1,\n",
       " 'dacad7fd': -1,\n",
       " 'df373817': -1,\n",
       " 'e62f1261': -1,\n",
       " 'ebde79d7': -1,\n",
       " 'f289c0ef': -1,\n",
       " 'fb23c543': -1,\n",
       " 'fc51ca94': -1}"
      ]
     },
     "execution_count": 11,
     "metadata": {},
     "output_type": "execute_result"
    }
   ],
   "source": [
    "dict((key,-1) if value <10 else (key,value)  for key,value in dict(train['device_id'].value_counts()).items())"
   ]
  },
  {
   "cell_type": "markdown",
   "metadata": {},
   "source": [
    "train = pd.read_csv(\"D:/GitHub/data/avazu_data/train.csv\",usecols=[2],nrows =50)"
   ]
  },
  {
   "cell_type": "code",
   "execution_count": 4,
   "metadata": {},
   "outputs": [
    {
     "name": "stdout",
     "output_type": "stream",
     "text": [
      "<class 'pandas.core.frame.DataFrame'>\n",
      "RangeIndex: 40428967 entries, 0 to 40428966\n",
      "Data columns (total 24 columns):\n",
      "id                  float64\n",
      "click               int64\n",
      "hour                int64\n",
      "C1                  int64\n",
      "banner_pos          int64\n",
      "site_id             object\n",
      "site_domain         object\n",
      "site_category       object\n",
      "app_id              object\n",
      "app_domain          object\n",
      "app_category        object\n",
      "device_id           object\n",
      "device_ip           object\n",
      "device_model        object\n",
      "device_type         int64\n",
      "device_conn_type    int64\n",
      "C14                 int64\n",
      "C15                 int64\n",
      "C16                 int64\n",
      "C17                 int64\n",
      "C18                 int64\n",
      "C19                 int64\n",
      "C20                 int64\n",
      "C21                 int64\n",
      "dtypes: float64(1), int64(14), object(9)\n",
      "memory usage: 7.2+ GB\n"
     ]
    }
   ],
   "source": [
    "train.info()"
   ]
  },
  {
   "cell_type": "code",
   "execution_count": 5,
   "metadata": {},
   "outputs": [
    {
     "data": {
      "text/html": [
       "<div>\n",
       "<style scoped>\n",
       "    .dataframe tbody tr th:only-of-type {\n",
       "        vertical-align: middle;\n",
       "    }\n",
       "\n",
       "    .dataframe tbody tr th {\n",
       "        vertical-align: top;\n",
       "    }\n",
       "\n",
       "    .dataframe thead th {\n",
       "        text-align: right;\n",
       "    }\n",
       "</style>\n",
       "<table border=\"1\" class=\"dataframe\">\n",
       "  <thead>\n",
       "    <tr style=\"text-align: right;\">\n",
       "      <th></th>\n",
       "      <th>id</th>\n",
       "      <th>click</th>\n",
       "      <th>hour</th>\n",
       "      <th>C1</th>\n",
       "      <th>banner_pos</th>\n",
       "      <th>site_id</th>\n",
       "      <th>site_domain</th>\n",
       "      <th>site_category</th>\n",
       "      <th>app_id</th>\n",
       "      <th>app_domain</th>\n",
       "      <th>...</th>\n",
       "      <th>C19</th>\n",
       "      <th>C20</th>\n",
       "      <th>C21</th>\n",
       "      <th>date</th>\n",
       "      <th>one_day</th>\n",
       "      <th>one_day_hour</th>\n",
       "      <th>week_day</th>\n",
       "      <th>day_hour_prev</th>\n",
       "      <th>day_hour_next</th>\n",
       "      <th>is_work_day</th>\n",
       "    </tr>\n",
       "  </thead>\n",
       "  <tbody>\n",
       "  </tbody>\n",
       "</table>\n",
       "<p>0 rows × 31 columns</p>\n",
       "</div>"
      ],
      "text/plain": [
       "Empty DataFrame\n",
       "Columns: [id, click, hour, C1, banner_pos, site_id, site_domain, site_category, app_id, app_domain, app_category, device_id, device_ip, device_model, device_type, device_conn_type, C14, C15, C16, C17, C18, C19, C20, C21, date, one_day, one_day_hour, week_day, day_hour_prev, day_hour_next, is_work_day]\n",
       "Index: []\n",
       "\n",
       "[0 rows x 31 columns]"
      ]
     },
     "execution_count": 5,
     "metadata": {},
     "output_type": "execute_result"
    }
   ],
   "source": [
    "\n",
    "train['date']=pd.to_datetime((train['hour'] / 100).map(int)+20000000)\n",
    "        \n",
    "train['one_day']=train['date'].dt.day\n",
    "train['one_day_hour'] = train['date'].dt.hour\n",
    "train['week_day'] = train['date'].dt.dayofweek\n",
    "train['day_hour_prev'] = train['one_day_hour'] - 1\n",
    "train['day_hour_next'] = train['one_day_hour'] + 1\n",
    "train['is_work_day'] = train['week_day'].apply(lambda x: 1 if x in [0,1,2,3,4] else 0)\n",
    "train[train['is_work_day']==0]"
   ]
  },
  {
   "cell_type": "code",
   "execution_count": 6,
   "metadata": {},
   "outputs": [
    {
     "name": "stdout",
     "output_type": "stream",
     "text": [
      "['id' 'click' 'hour' 'C1' 'banner_pos' 'site_id' 'site_domain'\n",
      " 'site_category' 'app_id' 'app_domain' 'app_category' 'device_id'\n",
      " 'device_ip' 'device_model' 'device_type' 'device_conn_type' 'C14' 'C15'\n",
      " 'C16' 'C17' 'C18' 'C19' 'C20' 'C21' 'date' 'one_day' 'one_day_hour'\n",
      " 'week_day' 'day_hour_prev' 'day_hour_next' 'is_work_day']\n"
     ]
    }
   ],
   "source": [
    "print (train.columns.values)\n",
    "min_col=['id', 'click', 'hour', 'C1', 'banner_pos', 'site_id',\n",
    "       'site_domain', 'site_category', 'app_id', 'app_domain',\n",
    "       'app_category', 'device_id', 'device_ip', 'device_model',\n",
    "       'device_type', 'device_conn_type']"
   ]
  },
  {
   "cell_type": "markdown",
   "metadata": {
    "collapsed": true
   },
   "source": [
    "for col in min_col:\n",
    "    rets=col_anly(col)\n",
    "    col_plt(rets,col,plt)"
   ]
  },
  {
   "cell_type": "code",
   "execution_count": null,
   "metadata": {},
   "outputs": [],
   "source": [
    "sns_factorplot(train_one=train,col_name='week_day',kind='count',plt=plt,sns=sns)"
   ]
  },
  {
   "cell_type": "code",
   "execution_count": null,
   "metadata": {
    "collapsed": true
   },
   "outputs": [],
   "source": []
  }
 ],
 "metadata": {
  "kernelspec": {
   "display_name": "Python 3",
   "language": "python",
   "name": "python3"
  },
  "language_info": {
   "codemirror_mode": {
    "name": "ipython",
    "version": 3
   },
   "file_extension": ".py",
   "mimetype": "text/x-python",
   "name": "python",
   "nbconvert_exporter": "python",
   "pygments_lexer": "ipython3",
   "version": "3.6.4"
  }
 },
 "nbformat": 4,
 "nbformat_minor": 2
}
